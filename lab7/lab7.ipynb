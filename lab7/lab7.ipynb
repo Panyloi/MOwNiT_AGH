{
 "cells": [
  {
   "attachments": {},
   "cell_type": "markdown",
   "metadata": {},
   "source": [
    "Zadanie 1"
   ]
  },
  {
   "cell_type": "code",
   "execution_count": 2,
   "metadata": {},
   "outputs": [],
   "source": [
    "import numpy as np"
   ]
  },
  {
   "cell_type": "code",
   "execution_count": 175,
   "metadata": {},
   "outputs": [],
   "source": [
    "a = np.random.randint(-2000,2000,size=(100,100))\n",
    "a_symm = (a + a.T)/2\n",
    "b = np.random.randint(-2000,2000,size=(500,500))\n",
    "b_symm = (b + b.T)/2\n",
    "c = np.random.randint(-2000,2000,size=(1000,1000))\n",
    "c_symm = (c + c.T)/2"
   ]
  },
  {
   "cell_type": "code",
   "execution_count": 176,
   "metadata": {},
   "outputs": [],
   "source": [
    "def power_method(A,  iterations=10000, epsilon=1e-9):\n",
    "    n = len(A)\n",
    "    x = np.ones(n)\n",
    "    i = 0\n",
    "    while i < iterations:\n",
    "        i+=1\n",
    "        x_0 = A @ x\n",
    "        norm = np.linalg.norm(x_0, ord = np.inf)\n",
    "        x_norm = x_0/ norm\n",
    "        if np.linalg.norm(x_norm-x, np.inf) < epsilon:\n",
    "            x = x_norm\n",
    "            break\n",
    "        x = x_norm\n",
    "\n",
    "    return norm, (x/np.linalg.norm(x))\n"
   ]
  },
  {
   "cell_type": "code",
   "execution_count": 177,
   "metadata": {},
   "outputs": [],
   "source": [
    "result = power_method(b_symm)\n"
   ]
  },
  {
   "cell_type": "code",
   "execution_count": 180,
   "metadata": {},
   "outputs": [
    {
     "name": "stdout",
     "output_type": "stream",
     "text": [
      "36387.732121233785\n"
     ]
    }
   ],
   "source": [
    "print(result[0])"
   ]
  },
  {
   "cell_type": "code",
   "execution_count": null,
   "metadata": {},
   "outputs": [],
   "source": [
    "np.linalg.eig(b_symm)"
   ]
  }
 ],
 "metadata": {
  "kernelspec": {
   "display_name": "Python 3",
   "language": "python",
   "name": "python3"
  },
  "language_info": {
   "codemirror_mode": {
    "name": "ipython",
    "version": 3
   },
   "file_extension": ".py",
   "mimetype": "text/x-python",
   "name": "python",
   "nbconvert_exporter": "python",
   "pygments_lexer": "ipython3",
   "version": "3.10.6"
  },
  "orig_nbformat": 4
 },
 "nbformat": 4,
 "nbformat_minor": 2
}
