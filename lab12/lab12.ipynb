{
 "cells": [
  {
   "attachments": {},
   "cell_type": "markdown",
   "metadata": {},
   "source": [
    "# Sprawozdanie 12"
   ]
  },
  {
   "attachments": {},
   "cell_type": "markdown",
   "metadata": {},
   "source": [
    "imports"
   ]
  },
  {
   "cell_type": "code",
   "execution_count": 11,
   "metadata": {},
   "outputs": [],
   "source": [
    "import numpy as np\n",
    "import matplotlib.pyplot as plt\n",
    "from scipy import integrate"
   ]
  },
  {
   "attachments": {},
   "cell_type": "markdown",
   "metadata": {},
   "source": [
    "### Zadanie 1 - Próbki prędkości i przebyta droga"
   ]
  },
  {
   "cell_type": "code",
   "execution_count": 7,
   "metadata": {},
   "outputs": [],
   "source": [
    "def trapezoid(vec_V, vec_S):\n",
    "    integral_list = [0]\n",
    "    integral = 0\n",
    "    vec_V_change = list(map(lambda x: x / 3.6, vec_V))\n",
    "\n",
    "    for i in range(0, len(vec_S) - 1):\n",
    "        val = (vec_V_change[i] + vec_V_change[i+1]) * (vec_S[i+1] - vec_S[i])/2\n",
    "        integral += val\n",
    "        integral_list.append(val)\n",
    "    \n",
    "    plt.plot(vec_S, list(map(lambda x: x / 1000, integral_list)))\n",
    "    plt.xlabel('time [s]')\n",
    "    plt.ylabel('distance [km]')\n",
    "    return integral / 1000"
   ]
  },
  {
   "cell_type": "code",
   "execution_count": 8,
   "metadata": {},
   "outputs": [
    {
     "data": {
      "text/plain": [
       "1.7166666666666666"
      ]
     },
     "execution_count": 8,
     "metadata": {},
     "output_type": "execute_result"
    },
    {
     "data": {
      "image/png": "[encoded data removed]",
      "text/plain": [
       "<Figure size 640x480 with 1 Axes>"
      ]
     },
     "metadata": {},
     "output_type": "display_data"
    }
   ],
   "source": [
    "V = [10,35,60,120,90] # km/h\n",
    "t = [0, 25, 40, 63, 90] # seconds\n",
    "trapezoid(V, t)"
   ]
  },
  {
   "attachments": {},
   "cell_type": "markdown",
   "metadata": {},
   "source": [
    "### Zadanie 2 Złożona kwadratura Simpsona"
   ]
  },
  {
   "cell_type": "code",
   "execution_count": 9,
   "metadata": {},
   "outputs": [],
   "source": [
    "def simpson(x, y):\n",
    "    n = len(x)\n",
    "    h = (x[-1] - x[0]) / n\n",
    "\n",
    "    integral = y[0]\n",
    "\n",
    "    for i in range(0, n//2):\n",
    "        integral += 4 * y[2 * i]\n",
    "\n",
    "    for i in range(0, n//2 + 1):\n",
    "        integral += 2 * y[2 * i - 1]\n",
    "\n",
    "    integral += y[-1]\n",
    "    integral *= h / 3\n",
    "    \n",
    "    return integral"
   ]
  },
  {
   "cell_type": "code",
   "execution_count": 10,
   "metadata": {},
   "outputs": [],
   "source": [
    "f1 = lambda x: np.exp(-(x**2)) * np.log(x)**2\n",
    "f2 = lambda x: 1 / (x**3 -2*x -5)\n",
    "f3 = lambda x: x**5 * np.exp(-x) * np.sin(x)\n",
    "f4 = lambda x, y: 1 / (np.sqrt(x+y) * (1+x+y)) # 0 <= x <= 1, 0 <= y <= 1 - x\n",
    "f5 = lambda x, y: x**2 + y**2 # # -3 <= x <= 3, -5 <= y <= 5"
   ]
  },
  {
   "attachments": {},
   "cell_type": "markdown",
   "metadata": {},
   "source": [
    "Tests"
   ]
  },
  {
   "cell_type": "code",
   "execution_count": 25,
   "metadata": {},
   "outputs": [
    {
     "name": "stdout",
     "output_type": "stream",
     "text": [
      "f1(x) | mine: 0.014452435710194288 library: 0.014486783890175816\n",
      "f2(x) | mine: 1.002933423283103 library: 1.5708619013451297\n",
      "f3(x) | mine: -15.016553472655673 library: -15.052464924398034\n"
     ]
    }
   ],
   "source": [
    "x_val = np.arange(1, 200, 0.1)\n",
    "y_val_f1 = [f1(x) for x in x_val]\n",
    "y_val_f2 = [f2(x) for x in x_val]\n",
    "y_val_f3 = [f3(x) for x in x_val]\n",
    "\n",
    "print(\"f1(x) | mine: {} library: {}\".format(simpson(x_val, y_val_f1), integrate.simpson(y_val_f1, x_val)))\n",
    "print(\"f2(x) | mine: {} library: {}\".format(simpson(x_val, y_val_f2), integrate.simpson(y_val_f2, x_val)))\n",
    "print(\"f3(x) | mine: {} library: {}\".format(simpson(x_val, y_val_f3), integrate.simpson(y_val_f3, x_val)))"
   ]
  },
  {
   "attachments": {},
   "cell_type": "markdown",
   "metadata": {},
   "source": [
    "### Zadanie 3 - Oznaczone całki podwójne"
   ]
  },
  {
   "cell_type": "code",
   "execution_count": null,
   "metadata": {},
   "outputs": [],
   "source": []
  }
 ],
 "metadata": {
  "kernelspec": {
   "display_name": "Python 3",
   "language": "python",
   "name": "python3"
  },
  "language_info": {
   "codemirror_mode": {
    "name": "ipython",
    "version": 3
   },
   "file_extension": ".py",
   "mimetype": "text/x-python",
   "name": "python",
   "nbconvert_exporter": "python",
   "pygments_lexer": "ipython3",
   "version": "3.10.6"
  },
  "orig_nbformat": 4
 },
 "nbformat": 4,
 "nbformat_minor": 2
}
