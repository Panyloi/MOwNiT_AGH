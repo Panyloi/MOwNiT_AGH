{
 "cells": [
  {
   "attachments": {},
   "cell_type": "markdown",
   "metadata": {},
   "source": [
    "## Laboratorium 2"
   ]
  },
  {
   "cell_type": "code",
   "execution_count": 140,
   "metadata": {},
   "outputs": [],
   "source": [
    "import numpy as np\n",
    "import matplotlib.pyplot as plt\n",
    "import time"
   ]
  },
  {
   "attachments": {},
   "cell_type": "markdown",
   "metadata": {},
   "source": [
    "### Zadanie 1"
   ]
  },
  {
   "cell_type": "code",
   "execution_count": 39,
   "metadata": {},
   "outputs": [],
   "source": [
    "def findNotZeroDown(tab, l):\n",
    "    for i in range(l, len(tab)):\n",
    "        if tab[i][l] != 0:\n",
    "            return i\n",
    "    return -1"
   ]
  },
  {
   "cell_type": "code",
   "execution_count": 132,
   "metadata": {},
   "outputs": [],
   "source": [
    "def solveGaussJordan(x : np.array, y : np.array , n):\n",
    "    a = x.copy()\n",
    "    b = y.copy()\n",
    "\n",
    "# top-down\n",
    "    for i in range(n):\n",
    "        # print(a)\n",
    "        div = a[i][i]\n",
    "\n",
    "        if np.isclose(div, 0.0):\n",
    "            swap_number = findNotZeroDown(a, i)\n",
    "            if swap_number == -1:\n",
    "                print(\"Nieskończenie wiele rozwiązań\")\n",
    "                return None\n",
    "\n",
    "            a[[i, swap_number], :] = a [[swap_number, i], :]\n",
    "            b[i], b[swap_number] = b[swap_number], b[i]\n",
    "\n",
    "            div = a[i][i]\n",
    "\n",
    "        a[i] = a[i] / div\n",
    "        b[i] = b[i] / div\n",
    "\n",
    "        for k in range(i+1,n):\n",
    "            b[k] = (-1) * b[i] * a[k][i] + b[k]\n",
    "            a[k] = (-1) * a[i] * a[k][i] + a[k]\n",
    "\n",
    "    # bottom-up\n",
    "    for i in range(n-1, -1, -1):\n",
    "        \n",
    "        a[i] = a[i] / a[i][i]\n",
    "        b[i] = b[i] / a[i][i]\n",
    "\n",
    "        for k in range(i-1, -1, -1):\n",
    "            b[k] = (-1) * b[i] * a[k][i] + b[k]\n",
    "            a[k] = (-1) * a[i] * a[k][i] + a[k]\n",
    "    \n",
    "\n",
    "    return b\n"
   ]
  },
  {
   "cell_type": "code",
   "execution_count": 200,
   "metadata": {},
   "outputs": [],
   "source": [
    "def gaussJordanTimes(a, b):\n",
    "    time_s = 0\n",
    "    n = len(a)\n",
    "    # print(n)\n",
    "    \n",
    "    time_s = time.perf_counter()\n",
    "    result1 = solveGaussJordan(a, b, n)\n",
    "    time_gs = time.perf_counter() - time_s\n",
    "\n",
    "    time_s = time.perf_counter()\n",
    "    result2 = np.linalg.solve(a, b)\n",
    "    time_np_solve = time.perf_counter() - time_s\n",
    "    \n",
    "    if np.allclose(result1, result2):\n",
    "        print(\"Times for {length}x{length} matrix: \\n\\\n",
    "GaussJordan solve: {GJ}   numpy solve: {np_solve}\".format(length = n, GJ = time_gs, np_solve = time_np_solve))\n",
    "\n",
    "    else:\n",
    "        print(\"Błędnie wyliczony wynik.\")"
   ]
  },
  {
   "cell_type": "code",
   "execution_count": 201,
   "metadata": {},
   "outputs": [],
   "source": [
    "def correctionCheck(n, a, b):\n",
    "    result1 = solveGaussJordan(a, b, n)\n",
    "    result2 = np.linalg.solve(a, b)\n",
    "\n",
    "    if np.allclose(result1, result2):\n",
    "        return True\n",
    "    return False"
   ]
  },
  {
   "attachments": {},
   "cell_type": "markdown",
   "metadata": {},
   "source": [
    "Porównanie czasu wykonania własno-zaimplementowanego algorytmu z algorytmem z biblioteki numpy"
   ]
  },
  {
   "cell_type": "code",
   "execution_count": 205,
   "metadata": {},
   "outputs": [],
   "source": [
    "n = 100\n",
    "table_len = 10\n",
    "A = [np.random.randint(0, 100, (n * i, n * i)).astype(np.float64) for i in range(1, table_len + 1)]\n",
    "B = [np.random.randint(0, 100, (n * i, 1)).astype(np.float64) for i in range(1, table_len + 1)]"
   ]
  },
  {
   "cell_type": "code",
   "execution_count": 204,
   "metadata": {},
   "outputs": [
    {
     "name": "stdout",
     "output_type": "stream",
     "text": [
      "Times for 100x100 matrix: \n",
      "GaussJordan solve: 0.13929403700058174   numpy solve: 0.002852461999282241\n",
      "Times for 200x200 matrix: \n",
      "GaussJordan solve: 0.4154016219999903   numpy solve: 0.0008601660010754131\n",
      "Times for 300x300 matrix: \n",
      "GaussJordan solve: 0.8717847730003996   numpy solve: 0.02889030900041689\n",
      "Times for 400x400 matrix: \n",
      "GaussJordan solve: 1.5292547509998258   numpy solve: 0.0031877710007393034\n",
      "Times for 500x500 matrix: \n",
      "GaussJordan solve: 2.415554995999628   numpy solve: 0.003816132999418187\n",
      "Times for 600x600 matrix: \n",
      "GaussJordan solve: 3.5675454060001357   numpy solve: 0.011484089000077802\n",
      "Times for 700x700 matrix: \n",
      "GaussJordan solve: 5.0007094539996615   numpy solve: 0.006876723000459606\n",
      "Times for 800x800 matrix: \n",
      "GaussJordan solve: 6.6228314859999955   numpy solve: 0.007068017999699805\n",
      "Times for 900x900 matrix: \n",
      "GaussJordan solve: 8.501706019998892   numpy solve: 0.01504697699965618\n",
      "Times for 1000x1000 matrix: \n",
      "GaussJordan solve: 10.680784136000511   numpy solve: 0.022963497000091593\n"
     ]
    }
   ],
   "source": [
    "for i in range(table_len):\n",
    "    gaussJordanTimes(A[i], B[i])\n",
    "# gaussJordanTimes(A[0], B[0])\n",
    "# correctionCheck(n, A, B)"
   ]
  },
  {
   "attachments": {},
   "cell_type": "markdown",
   "metadata": {},
   "source": [
    "### Zadanie 2"
   ]
  }
 ],
 "metadata": {
  "kernelspec": {
   "display_name": "Python 3",
   "language": "python",
   "name": "python3"
  },
  "language_info": {
   "codemirror_mode": {
    "name": "ipython",
    "version": 3
   },
   "file_extension": ".py",
   "mimetype": "text/x-python",
   "name": "python",
   "nbconvert_exporter": "python",
   "pygments_lexer": "ipython3",
   "version": "3.10.6"
  },
  "orig_nbformat": 4,
  "vscode": {
   "interpreter": {
    "hash": "916dbcbb3f70747c44a77c7bcd40155683ae19c65e1c03b4aa3499c5328201f1"
   }
  }
 },
 "nbformat": 4,
 "nbformat_minor": 2
}
