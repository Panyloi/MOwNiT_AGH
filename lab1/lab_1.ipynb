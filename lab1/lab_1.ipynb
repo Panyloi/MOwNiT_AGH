{
 "cells": [
  {
   "attachments": {},
   "cell_type": "markdown",
   "metadata": {},
   "source": [
    "## Laboratorium 1"
   ]
  },
  {
   "attachments": {},
   "cell_type": "markdown",
   "metadata": {},
   "source": [
    "Potrzebne importy bibliotek używanych przy implementacji algorytmów"
   ]
  },
  {
   "cell_type": "code",
   "execution_count": 1,
   "metadata": {},
   "outputs": [],
   "source": [
    "import numpy as np\n",
    "import matplotlib.pyplot as plt\n",
    "import time"
   ]
  },
  {
   "attachments": {},
   "cell_type": "markdown",
   "metadata": {},
   "source": [
    "### Zadanie 1 - sumowanie liczb pojedynczej precyzji"
   ]
  },
  {
   "attachments": {},
   "cell_type": "markdown",
   "metadata": {},
   "source": [
    "Funkcja do sumowania takich samych elementów o pojedyńczej precyzji z tablicy $N = 10^7$ przy użyciu biblioteki ```numpy```."
   ]
  },
  {
   "cell_type": "code",
   "execution_count": 2,
   "metadata": {},
   "outputs": [],
   "source": [
    "def npSum(x, n = 10**7):\n",
    "    a = np.full(n, x, dtype=np.float32)\n",
    "    return a.sum()"
   ]
  },
  {
   "cell_type": "code",
   "execution_count": 3,
   "metadata": {},
   "outputs": [
    {
     "name": "stdout",
     "output_type": "stream",
     "text": [
      "5312500.0\n"
     ]
    }
   ],
   "source": [
    "# x = 0.22664672136306763\n",
    "x = np.float32(0.53125)\n",
    "x1 = npSum(x)\n",
    "print(x1)"
   ]
  },
  {
   "attachments": {},
   "cell_type": "markdown",
   "metadata": {},
   "source": [
    "Funkcja ```absoluteError``` do obliczania błędu bezwzględnego dwóch liczb. "
   ]
  },
  {
   "cell_type": "code",
   "execution_count": 4,
   "metadata": {},
   "outputs": [],
   "source": [
    "def absoluteError(x1, x2):\n",
    "    return np.absolute(x1 - x2)"
   ]
  },
  {
   "attachments": {},
   "cell_type": "markdown",
   "metadata": {},
   "source": [
    "\n",
    "Funkcja ```forSum``` do sumowania takich samych elementów o pojedyńczej precyzji z tablicy $N = 10^7$ przy użyciu pętli for razem z zapisywaniem <br>\n",
    "wyników co 25000 dla pokazania ich na wykresie."
   ]
  },
  {
   "cell_type": "code",
   "execution_count": 5,
   "metadata": {},
   "outputs": [],
   "source": [
    "def forSum(x, n = 10**7):\n",
    "    axis_x = []\n",
    "    axis_y = []\n",
    "    # a = np.full(n, x, dtype = np.float32)\n",
    "    acc = np.float32(x) # akumlator dla sumy liczb\n",
    "    for i in range(1, n):\n",
    "        acc_back = acc\n",
    "        acc += x\n",
    "        if i % 25000 == 0: \n",
    "            # axis_y.append(1 - (acc-acc_back)/x)\n",
    "            # axis_x.append(i)\n",
    "            tmp_sum = np.full(i, x, dtype=np.float32).sum()\n",
    "            axis_x.append(i)\n",
    "            axis_y.append(absoluteError(acc, tmp_sum) / tmp_sum)\n",
    "        \n",
    "    \n",
    "    return acc, axis_x, axis_y"
   ]
  },
  {
   "attachments": {},
   "cell_type": "markdown",
   "metadata": {},
   "source": [
    "Wykres przedstawiający wartość błędu względnego dla kolejnych iteracji "
   ]
  },
  {
   "cell_type": "code",
   "execution_count": 163,
   "metadata": {},
   "outputs": [
    {
     "name": "stdout",
     "output_type": "stream",
     "text": [
      "5030840.5\n"
     ]
    },
    {
     "data": {
      "image/png": "[encoded data removed]",
      "text/plain": [
       "<Figure size 640x480 with 1 Axes>"
      ]
     },
     "metadata": {},
     "output_type": "display_data"
    }
   ],
   "source": [
    "# tab = &emsp;\n",
    "x2, axis_x, axis_y = forSum(x)\n",
    "print(x2)\n",
    "plt.plot(axis_x, axis_y)\n",
    "plt.show()"
   ]
  },
  {
   "attachments": {},
   "cell_type": "markdown",
   "metadata": {},
   "source": [
    "Z wykresu można wywnioskować kilka ciekawych rzeczy:\n",
    "- dla małych iteracji, suma liczb dla pojedyńczej precyzji jest porównywalna do precyzyjnego zliczania\n",
    "- gdy ilość interacji zaczyna przekraczać milion, błąd względny robi silny przeskok z wartości bliskich zeru, do wartości bliskiej 0.06 (6 % zadanej wartości) <br>\n",
    "    jest to spowodowane tym, że liczba zmiennoprzecinkowa o $32$ bitach przestaje rozróżniać końcowe cyfry części ułamkowej i powstaje niepoewność w wynikach.\n",
    "\n"
   ]
  },
  {
   "attachments": {},
   "cell_type": "markdown",
   "metadata": {},
   "source": [
    "#### Błąd bezwzględny obliczeń "
   ]
  },
  {
   "cell_type": "code",
   "execution_count": 150,
   "metadata": {},
   "outputs": [
    {
     "name": "stdout",
     "output_type": "stream",
     "text": [
      "281659.5\n"
     ]
    }
   ],
   "source": [
    "bb1 = absoluteError(x1, x2) ## bład bezwzględny\n",
    "print(bb1)"
   ]
  },
  {
   "attachments": {},
   "cell_type": "markdown",
   "metadata": {},
   "source": [
    "#### Błąd względny obliczeń"
   ]
  },
  {
   "cell_type": "code",
   "execution_count": 151,
   "metadata": {},
   "outputs": [
    {
     "name": "stdout",
     "output_type": "stream",
     "text": [
      "0.053018257\n"
     ]
    }
   ],
   "source": [
    "bw1 = bb1 / x1\n",
    "print(bw1)"
   ]
  },
  {
   "attachments": {},
   "cell_type": "markdown",
   "metadata": {},
   "source": [
    "Bład względny jest taki duży - ponad 5% - ponieważ przy dodawaniu małej liczby do dużej następuje \"zniknięcie\" tej mniejszej, tz. następuje zrównanie wykładników\n",
    "poprzez odpowiednie przesunięcie matysy. Problem pojawia się przy dodawaniu małej liczby zmiennoprzecinkowej, która musi zrównać wykładnik do tej dużej, tracąc na precyzji obliczeń."
   ]
  },
  {
   "attachments": {},
   "cell_type": "markdown",
   "metadata": {},
   "source": [
    "#### Rekurencyjny algorytm sumowania"
   ]
  },
  {
   "cell_type": "code",
   "execution_count": 6,
   "metadata": {},
   "outputs": [],
   "source": [
    "def recSum(tab, p, q):\n",
    "    if p > q:\n",
    "        return\n",
    "    if p == q:\n",
    "        return tab[p]\n",
    "    r = (p + q)//2\n",
    "    x1 = recSum(tab, p, r)\n",
    "    x2 = recSum(tab, r+1, q)\n",
    "    return x1 + x2\n",
    "    "
   ]
  },
  {
   "attachments": {},
   "cell_type": "markdown",
   "metadata": {},
   "source": [
    "Wynik algorytmu rekursywnego dla tablicy takich samych liczb zmiennoprzecinkowych"
   ]
  },
  {
   "cell_type": "code",
   "execution_count": 159,
   "metadata": {},
   "outputs": [
    {
     "name": "stdout",
     "output_type": "stream",
     "text": [
      "5312500.0\n"
     ]
    }
   ],
   "source": [
    "a = np.full(10**7, x, dtype=np.float32)\n",
    "x3 = recSum(a, 0, len(a) - 1)\n",
    "print(x3)"
   ]
  },
  {
   "attachments": {},
   "cell_type": "markdown",
   "metadata": {},
   "source": [
    "Błąd bezwzględny dla algorytmu rekursywnego"
   ]
  },
  {
   "cell_type": "code",
   "execution_count": 160,
   "metadata": {},
   "outputs": [
    {
     "name": "stdout",
     "output_type": "stream",
     "text": [
      "0.0\n"
     ]
    }
   ],
   "source": [
    "print(absoluteError(x3, x1))"
   ]
  },
  {
   "attachments": {},
   "cell_type": "markdown",
   "metadata": {},
   "source": [
    "Bład względny dla algorytmu rekursywnego"
   ]
  },
  {
   "cell_type": "code",
   "execution_count": 161,
   "metadata": {},
   "outputs": [
    {
     "name": "stdout",
     "output_type": "stream",
     "text": [
      "0.0\n"
     ]
    }
   ],
   "source": [
    "print(absoluteError(x3, x1)/x1)"
   ]
  },
  {
   "attachments": {},
   "cell_type": "markdown",
   "metadata": {},
   "source": [
    "Ciekawym jest, że błąd względny znacznie zmalał, ponieważ w algorytmie rekursywnym dodawane do siebie liczby zmiennoprzecinkowe miały taki sam wykładnik, tz. przy dodawaniu części ułamkowej cyfr nie następowało \"gubienie\" precyzji jaką może nam zaoferować 32 bajty"
   ]
  },
  {
   "attachments": {},
   "cell_type": "markdown",
   "metadata": {},
   "source": [
    "### Porównywanie czasu działania algorytmu rekurencyjnego oraz iteracyjnego"
   ]
  },
  {
   "attachments": {},
   "cell_type": "markdown",
   "metadata": {},
   "source": [
    "Algorytm interacyjny (bez zapisywania danych na wykres)"
   ]
  },
  {
   "cell_type": "code",
   "execution_count": 7,
   "metadata": {},
   "outputs": [],
   "source": [
    "def forSumForTime(x, n = 10**7):\n",
    "    acc = np.float32(x) # akumlator dla sumy liczb\n",
    "    for i in range(1, n):\n",
    "        acc += x"
   ]
  },
  {
   "attachments": {},
   "cell_type": "markdown",
   "metadata": {},
   "source": [
    "Algorytm rekurencyjny został zaimplementowany wyżej w komórkach."
   ]
  },
  {
   "attachments": {},
   "cell_type": "markdown",
   "metadata": {},
   "source": [
    "#### Wyniki porównania czasów wykonania"
   ]
  },
  {
   "cell_type": "code",
   "execution_count": 110,
   "metadata": {},
   "outputs": [],
   "source": [
    "rng = np.random.default_rng()\n",
    "tab = [(0.9 - 0.1) * rng.random(size=1, dtype=np.float32)  + 0.1 for _ in range(10)]\n",
    "n = 10 ** 7\n",
    "\n",
    "def compare_time(func1, func2, table, flag = True):\n",
    "    for_times = []\n",
    "    rec_times = []\n",
    "\n",
    "    for i in range(10):\n",
    "        y = table[i]\n",
    "        a = np.full(n, y, dtype=np.float32)\n",
    "\n",
    "        if flag:\n",
    "            for_time_s = time.process_time()\n",
    "            func1(table[i])\n",
    "            for_time_f = time.process_time()\n",
    "        else:\n",
    "            for_time_s = time.process_time()\n",
    "            func1(a)\n",
    "            for_time_f = time.process_time()\n",
    "\n",
    "        for_times.append(for_time_f - for_time_s)\n",
    "\n",
    "    \n",
    "    for i in range(10):\n",
    "        y = table[i]\n",
    "        a = np.full(n, y, dtype=np.float32)\n",
    "\n",
    "        rec_time_s = time.process_time()\n",
    "        tab_y = func2(a, 0, n - 1)\n",
    "        rec_time_f = time.process_time()\n",
    "\n",
    "        rec_times.append(rec_time_f - rec_time_s)\n",
    "    \n",
    "    return for_times, rec_times"
   ]
  },
  {
   "cell_type": "code",
   "execution_count": 11,
   "metadata": {},
   "outputs": [
    {
     "name": "stderr",
     "output_type": "stream",
     "text": [
      "/tmp/ipykernel_5153/3313313905.py:4: RuntimeWarning: overflow encountered in add\n",
      "  acc += x\n"
     ]
    },
    {
     "name": "stdout",
     "output_type": "stream",
     "text": [
      "Mean value of iteration algorithm: 9.545119062400001\n",
      "Mean value of recursion algorithm: 3.4729497408000056\n"
     ]
    }
   ],
   "source": [
    "for_times, rec_times = compare_time(forSumForTime, recSum, tab)\n",
    "\n",
    "sample1 = np.array(for_times)\n",
    "sample2 = np.array(rec_times)\n",
    "# print(sample1)\n",
    "# print(sample2)\n",
    "\n",
    "print(f'Mean value of iteration algorithm: {sample1.mean()}' )\n",
    "print(f'Mean value of recursion algorithm: {sample2.mean()}' )\n"
   ]
  },
  {
   "attachments": {},
   "cell_type": "markdown",
   "metadata": {},
   "source": [
    "Powyższe wyniki są wartościami średnimi z 10 wywołań każdego z algorytmów dla losowej liczby z przedziału $[0.1, 0.9]$ i $10^7$ elememtów każdej liczby.<br>\n",
    "Można zauważyć, że czasy wykonania różnią się prawie o 2,73 razy dla algorytmu rekurencyjnego, który okazał się szybszy w porównaniu z iteracyjnym. Warto dodać, że algorytm rekurencyjny miał znaczny mniejszy błąd względny niż iteracyjny."
   ]
  },
  {
   "attachments": {},
   "cell_type": "markdown",
   "metadata": {},
   "source": [
    "#### Przykładowe dane dla których błąd względny algorytmu rekurencyjnego nie jest równy 0.0."
   ]
  },
  {
   "cell_type": "code",
   "execution_count": 76,
   "metadata": {},
   "outputs": [],
   "source": [
    "def nonZeroErrorNum(z): # bład względny dla\n",
    "    a = np.full(n, z)\n",
    "    ans = recSum(a, 0, n-1)\n",
    "    sum_np = npSum(z)\n",
    "    print(ans)\n",
    "    print(absoluteError(ans, sum_np))\n",
    "    print(absoluteError(ans, sum_np) / sum_np)"
   ]
  },
  {
   "cell_type": "code",
   "execution_count": 98,
   "metadata": {},
   "outputs": [],
   "source": [
    "def nonZeroErrorTab(tab): ##\n",
    "    lol = np.array(tab, dtype=np.float32)\n",
    "    ans = recSum(tab, 0, n-1)\n",
    "    sum_np = lol.sum()\n",
    "    # print(ans)\n",
    "    # print(sum_np)\n",
    "    # print(absoluteError(ans, sum_np) / sum_np)\n",
    "    return ans"
   ]
  },
  {
   "attachments": {},
   "cell_type": "markdown",
   "metadata": {},
   "source": [
    "Przykład 1"
   ]
  },
  {
   "cell_type": "code",
   "execution_count": 78,
   "metadata": {},
   "outputs": [
    {
     "name": "stdout",
     "output_type": "stream",
     "text": [
      "8999899.0\n",
      "88.0\n",
      "9.777983e-06\n"
     ]
    }
   ],
   "source": [
    "nonZeroErrorNum(np.float32(0.89999))"
   ]
  },
  {
   "cell_type": "code",
   "execution_count": 77,
   "metadata": {},
   "outputs": [
    {
     "name": "stdout",
     "output_type": "stream",
     "text": [
      "1000000.0\n",
      "10.5625\n",
      "1.0562611e-05\n"
     ]
    }
   ],
   "source": [
    "nonZeroErrorNum(np.float32(0.1))"
   ]
  },
  {
   "cell_type": "code",
   "execution_count": 50,
   "metadata": {},
   "outputs": [
    {
     "name": "stdout",
     "output_type": "stream",
     "text": [
      "1428314.2\n",
      "8.25\n",
      "5.7760067e-06\n"
     ]
    }
   ],
   "source": [
    "nonZeroErrorNum((0.9 - 0.1) * rng.random(size=1, dtype=np.float32)  + 0.1)"
   ]
  },
  {
   "cell_type": "code",
   "execution_count": 79,
   "metadata": {},
   "outputs": [
    {
     "name": "stdout",
     "output_type": "stream",
     "text": [
      "5000000000000000.0\n",
      "5000019000000000.0\n",
      "3.7580821e-06\n"
     ]
    }
   ],
   "source": [
    "sample3 = [np.float32(1000000000.01010) if i % 2 == 0 else np.float32(0.00001) for i in range(n)]\n",
    "nonZeroErrorTab(sample3)"
   ]
  },
  {
   "attachments": {},
   "cell_type": "markdown",
   "metadata": {},
   "source": [
    "Przedstawienie błędów względnych i bezwzględnych dla 10-elementowej tablicy"
   ]
  },
  {
   "cell_type": "code",
   "execution_count": 101,
   "metadata": {},
   "outputs": [
    {
     "name": "stdout",
     "output_type": "stream",
     "text": [
      "tab[0]: [0.25932494]\n",
      "Wartość bezwzględna: 12.75, wartość względna: 4.916587386105675e-06\n",
      "tab[1]: [0.15534277]\n",
      "Wartość bezwzględna: 18.875, wartość względna: 1.215040265378775e-05\n",
      "tab[2]: [0.29508135]\n",
      "Wartość bezwzględna: 41.75, wartość względna: 1.4148841728456318e-05\n",
      "tab[3]: [0.4514644]\n",
      "Wartość bezwzględna: 59.0, wartość względna: 1.3068412044958677e-05\n",
      "tab[4]: [0.5965511]\n",
      "Wartość bezwzględna: 52.0, wartość względna: 8.716696356714237e-06\n",
      "tab[5]: [0.73770434]\n",
      "Wartość bezwzględna: 104.0, wartość względna: 1.4097588973527309e-05\n",
      "tab[6]: [0.33542657]\n",
      "Wartość bezwzględna: 6.75, wartość względna: 2.0123670765315183e-06\n",
      "tab[7]: [0.49277097]\n",
      "Wartość bezwzględna: 12.5, wartość względna: 2.5366687168570934e-06\n",
      "tab[8]: [0.8766235]\n",
      "Wartość bezwzględna: 80.0, wartość względna: 9.125840733759105e-06\n",
      "tab[9]: [0.79403514]\n",
      "Wartość bezwzględna: 128.0, wartość względna: 1.6120451618917286e-05\n"
     ]
    }
   ],
   "source": [
    "for i in range(len(tab)):\n",
    "    print(f'tab[{i}]: {tab[i]}')\n",
    "    tmp = nonZeroErrorTab(np.full(n, tab[i]))\n",
    "    print(f'Wartość bezwzględna: {absoluteError(tmp, npSum(tab[i]))}, wartość względna: {absoluteError(tmp, npSum(tab[i])) / npSum(tab[i])}')"
   ]
  },
  {
   "attachments": {},
   "cell_type": "markdown",
   "metadata": {},
   "source": [
    "### Zadanie 2 - algorytm Kahana"
   ]
  },
  {
   "attachments": {},
   "cell_type": "markdown",
   "metadata": {},
   "source": [
    "#### Algorytm Kahana"
   ]
  },
  {
   "cell_type": "code",
   "execution_count": 85,
   "metadata": {},
   "outputs": [],
   "source": [
    "def kahan(tab):\n",
    "    suma = np.float32(0)\n",
    "    err = np.float32(0)\n",
    "\n",
    "    for i in range(len(tab)):\n",
    "        y = np.float32(tab[i]) - err \n",
    "        temp = suma + y\n",
    "        err = (temp - suma) - y\n",
    "        suma = temp\n",
    "    return suma"
   ]
  },
  {
   "attachments": {},
   "cell_type": "markdown",
   "metadata": {},
   "source": [
    "#### Wartość względna i bezwzględna dla algorytmu Kahana dla danych jak w zadaniu 1  "
   ]
  },
  {
   "cell_type": "code",
   "execution_count": 86,
   "metadata": {},
   "outputs": [
    {
     "name": "stdout",
     "output_type": "stream",
     "text": [
      "5312500.0\n"
     ]
    }
   ],
   "source": [
    "tab_kahan = np.full(n, x)\n",
    "kahan_res1 = kahan(tab_kahan)\n",
    "print(kahan_res1)"
   ]
  },
  {
   "cell_type": "code",
   "execution_count": 87,
   "metadata": {},
   "outputs": [
    {
     "name": "stdout",
     "output_type": "stream",
     "text": [
      "0.0\n"
     ]
    }
   ],
   "source": [
    "print(absoluteError(kahan_res1, x1) / x1)"
   ]
  },
  {
   "cell_type": "code",
   "execution_count": 102,
   "metadata": {},
   "outputs": [
    {
     "name": "stdout",
     "output_type": "stream",
     "text": [
      "tab[0]: [0.25932494]\n",
      "Wartość bezwzględna: 12.75, wartość względna: 4.916587386105675e-06\n",
      "tab[1]: [0.15534277]\n",
      "Wartość bezwzględna: 18.75, wartość względna: 1.2069936019543093e-05\n",
      "tab[2]: [0.29508135]\n",
      "Wartość bezwzględna: 42.0, wartość względna: 1.4233565707399976e-05\n",
      "tab[3]: [0.4514644]\n",
      "Wartość bezwzględna: 59.0, wartość względna: 1.3068412044958677e-05\n",
      "tab[4]: [0.5965511]\n",
      "Wartość bezwzględna: 52.0, wartość względna: 8.716696356714237e-06\n",
      "tab[5]: [0.73770434]\n",
      "Wartość bezwzględna: 104.5, wartość względna: 1.4165365428198129e-05\n",
      "tab[6]: [0.33542657]\n",
      "Wartość bezwzględna: 7.0, wartość względna: 2.086899257847108e-06\n",
      "tab[7]: [0.49277097]\n",
      "Wartość bezwzględna: 13.0, wartość względna: 2.6381355837656884e-06\n",
      "tab[8]: [0.8766235]\n",
      "Wartość bezwzględna: 81.0, wartość względna: 9.239913197234273e-06\n",
      "tab[9]: [0.79403514]\n",
      "Wartość bezwzględna: 127.5, wartość względna: 1.6057481843745336e-05\n"
     ]
    }
   ],
   "source": [
    "for i in range(len(tab)):\n",
    "    print(f'tab[{i}]: {tab[i]}')\n",
    "    tmp = kahan(np.full(n, tab[i]))\n",
    "    print(f'Wartość bezwzględna: {absoluteError(tmp, npSum(tab[i]))}, wartość względna: {absoluteError(tmp, npSum(tab[i])) / npSum(tab[i])}')"
   ]
  },
  {
   "cell_type": "code",
   "execution_count": 92,
   "metadata": {},
   "outputs": [
    {
     "name": "stdout",
     "output_type": "stream",
     "text": [
      "2345512.2\n"
     ]
    }
   ],
   "source": [
    "print(kahan(np.full(n, 0.23455123, dtype=np.float32)))"
   ]
  },
  {
   "cell_type": "code",
   "execution_count": 113,
   "metadata": {},
   "outputs": [
    {
     "name": "stdout",
     "output_type": "stream",
     "text": [
      "5000000000000000.0\n",
      "5000000000000000.0\n",
      "5000000000000000.0\n",
      "5000019000000000.0\n"
     ]
    }
   ],
   "source": [
    "print(recSum(sample3, 0, n-1))\n",
    "print(kahan(sample3))\n",
    "print(sum(sample3))\n",
    "print(np.sum(np.array(sample3)))"
   ]
  },
  {
   "attachments": {},
   "cell_type": "markdown",
   "metadata": {},
   "source": [
    "#### Własnościu numeryczne algorytmu Kahana"
   ]
  },
  {
   "attachments": {},
   "cell_type": "markdown",
   "metadata": {},
   "source": [
    "Własnościu numeryczne algorytmu Kahana są lepsze od innych algorytmów, ponieważ utracone niższe bity przy dodawaniu małej liczby do sumy liczb wcześniejszych dodanych są dodawane w następnej iteracji do następnego elementu w tablicy, przez co udaje się zachować utraconą precyzję. Zmienna err jest potrzebna by zapisywać utracone bity w kolejnych iteracjach. <br> $err = (temp - suma) - y$ odzyskuje -(niższe bity)"
   ]
  },
  {
   "attachments": {},
   "cell_type": "markdown",
   "metadata": {},
   "source": [
    "#### Porwównanie czasów działania algorytmu rekurencyjnego i Kahana dla tych samych danych wejściowych"
   ]
  },
  {
   "cell_type": "code",
   "execution_count": 114,
   "metadata": {},
   "outputs": [
    {
     "name": "stdout",
     "output_type": "stream",
     "text": [
      "Mean value of kahan algorithm: 6.745570805899979\n",
      "Mean value of recursion algorithm: 3.4633999996000058\n"
     ]
    }
   ],
   "source": [
    "kahan_times, recur_times = compare_time(kahan, recSum, tab, flag=False)\n",
    "\n",
    "sample1 = np.array(kahan_times)\n",
    "sample2 = np.array(recur_times)\n",
    "# print(sample1)\n",
    "# print(sample2)\n",
    "\n",
    "print(f'Mean value of kahan algorithm: {sample1.mean()}' )\n",
    "print(f'Mean value of recursion algorithm: {sample2.mean()}' )"
   ]
  },
  {
   "attachments": {},
   "cell_type": "markdown",
   "metadata": {},
   "source": [
    "### Zadanie 3 - sumy częściowe"
   ]
  }
 ],
 "metadata": {
  "kernelspec": {
   "display_name": "Python 3",
   "language": "python",
   "name": "python3"
  },
  "language_info": {
   "codemirror_mode": {
    "name": "ipython",
    "version": 3
   },
   "file_extension": ".py",
   "mimetype": "text/x-python",
   "name": "python",
   "nbconvert_exporter": "python",
   "pygments_lexer": "ipython3",
   "version": "3.10.6 (main, Nov 14 2022, 16:10:14) [GCC 11.3.0]"
  },
  "orig_nbformat": 4,
  "vscode": {
   "interpreter": {
    "hash": "916dbcbb3f70747c44a77c7bcd40155683ae19c65e1c03b4aa3499c5328201f1"
   }
  }
 },
 "nbformat": 4,
 "nbformat_minor": 2
}
