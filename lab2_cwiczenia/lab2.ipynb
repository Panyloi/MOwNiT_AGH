{
 "cells": [
  {
   "attachments": {},
   "cell_type": "markdown",
   "metadata": {},
   "source": [
    "## Laboratorium 2"
   ]
  },
  {
   "cell_type": "code",
   "execution_count": 107,
   "metadata": {},
   "outputs": [],
   "source": [
    "import numpy as np"
   ]
  },
  {
   "attachments": {},
   "cell_type": "markdown",
   "metadata": {},
   "source": [
    "### Zadanie 1"
   ]
  },
  {
   "cell_type": "code",
   "execution_count": 43,
   "metadata": {},
   "outputs": [],
   "source": [
    "def findMax(tab, l): # return iterator\n",
    "\n",
    "    max_num = float(\"-inf\")\n",
    "    current_i = l\n",
    "\n",
    "    for i in range(l, len(tab)):\n",
    "        if tab[i][l] > max_num:\n",
    "            current_i = i\n",
    "            max_num = tab[i][l]\n",
    "\n",
    "    return current_i\n"
   ]
  },
  {
   "cell_type": "code",
   "execution_count": 44,
   "metadata": {},
   "outputs": [],
   "source": [
    "def solverGaussJordan(A, B):\n",
    "    n = len(A)\n",
    "\n",
    "    a = A.copy()\n",
    "    b = B.copy()\n",
    "    \n",
    "    a = np.column_stack((a, b))\n",
    "\n",
    "    for i in range(n):\n",
    "\n",
    "        switch_i = findMax(a, i)\n",
    "        a[[i, switch_i], :] = a [[switch_i, i], :]\n",
    "        # print(a)\n",
    "        \n",
    "        for k in range(i):\n",
    "            # print(i)\n",
    "            a[k] = (-1) * (a[k][i] / a[i][i]) * a[i] + a[k]\n",
    "            a[k][i] = 0.0\n",
    "\n",
    "        for k in range(i+1, n):\n",
    "            a[k] = (-1) * (a[k][i] / a[i][i]) * a[i] + a[k]\n",
    "            a[k][i] = 0.0\n",
    "    for i in range(n):\n",
    "        tmp = a[i][i]\n",
    "        a[i][n] /= tmp\n",
    "        a[i][i] /= tmp\n",
    "        \n",
    "\n",
    "    solve = np.ones((n,1), dtype=np.float64)\n",
    "    for i in range(n):\n",
    "        solve[i][0] *= a[i][n]\n",
    "    # print(a) # skasować gdy 500 albo wiecej\n",
    "    return solve\n",
    "    \n"
   ]
  },
  {
   "cell_type": "code",
   "execution_count": 45,
   "metadata": {},
   "outputs": [],
   "source": [
    "a = np.array([(1, 2, 3),\n",
    "              (4, 5, 6),\n",
    "              (7, 8, 9)], dtype=np.float64)\n",
    "b = np.array([(1,),\n",
    "              (2,),\n",
    "              (3,)], np.float64)\n",
    "\n",
    "# Dla 500\n",
    "# A = np.random.uniform(0,10, (500, 500))\n",
    "# B = np.random.uniform(0,10, (500,1))\n",
    "\n",
    "A = np.random.uniform(0,10, (3, 3))\n",
    "B = np.random.uniform(0,10, (3,1))\n"
   ]
  },
  {
   "cell_type": "code",
   "execution_count": 46,
   "metadata": {},
   "outputs": [],
   "source": [
    "def gaussJordanTimes(a, b):\n",
    "    time_s = 0\n",
    "    n = len(a)\n",
    "    # print(n)\n",
    "    \n",
    "    time_s = time.perf_counter()\n",
    "    result1 = solverGaussJordan(a, b)\n",
    "    time_gs = time.perf_counter() - time_s\n",
    "\n",
    "    time_s = time.perf_counter()\n",
    "    result2 = np.linalg.solve(a, b)\n",
    "    time_np_solve = time.perf_counter() - time_s\n",
    "    \n",
    "    if np.allclose(result1, result2):\n",
    "        print(\"Times for {length}x{length} matrix: \\n\\\n",
    "GaussJordan solve: {GJ}   numpy solve: {np_solve}\".format(length = n, GJ = time_gs, np_solve = time_np_solve))\n",
    "\n",
    "    else:\n",
    "        print(\"Błędnie wyliczony wynik.\")"
   ]
  },
  {
   "cell_type": "code",
   "execution_count": 47,
   "metadata": {},
   "outputs": [
    {
     "name": "stdout",
     "output_type": "stream",
     "text": [
      "True\n",
      "[[ 0.57305543]\n",
      " [-1.08853946]\n",
      " [ 1.53375781]]\n"
     ]
    }
   ],
   "source": [
    "result1 = solverGaussJordan(A, B)\n",
    "np_result1 = np.linalg.solve(A,B)\n",
    "print(np.allclose(np_result1, result1))\n",
    "print(result1)"
   ]
  },
  {
   "attachments": {},
   "cell_type": "markdown",
   "metadata": {},
   "source": [
    "Porównanie czasu wykonania własno-zaimplementowanego algorytmu z algorytmem z biblioteki numpy\n"
   ]
  },
  {
   "cell_type": "code",
   "execution_count": 48,
   "metadata": {},
   "outputs": [],
   "source": [
    "n = 100\n",
    "table_len = 15\n",
    "A = [np.random.randint(0, 100, (n * i, n * i)).astype(np.float64) for i in range(1, table_len + 1)]\n",
    "B = [np.random.randint(0, 100, (n * i, 1)).astype(np.float64) for i in range(1, table_len + 1)]"
   ]
  },
  {
   "cell_type": "code",
   "execution_count": 49,
   "metadata": {},
   "outputs": [
    {
     "name": "stdout",
     "output_type": "stream",
     "text": [
      "Times for 100x100 matrix: \n",
      "GaussJordan solve: 0.036637573000916746   numpy solve: 0.004747646002215333\n",
      "Times for 200x200 matrix: \n",
      "GaussJordan solve: 0.1875658420030959   numpy solve: 0.0034928140012198128\n",
      "Times for 300x300 matrix: \n",
      "GaussJordan solve: 0.3699661790014943   numpy solve: 0.005058857997937594\n",
      "Times for 400x400 matrix: \n",
      "GaussJordan solve: 0.6171341999943252   numpy solve: 0.0025139939971268177\n",
      "Times for 500x500 matrix: \n",
      "GaussJordan solve: 0.9939114760054508   numpy solve: 0.005645241995807737\n",
      "Times for 600x600 matrix: \n",
      "GaussJordan solve: 1.5815800679993117   numpy solve: 0.005872854002518579\n",
      "Times for 700x700 matrix: \n",
      "GaussJordan solve: 2.2510914059967035   numpy solve: 0.028719287998683285\n",
      "Times for 800x800 matrix: \n",
      "GaussJordan solve: 3.1101107249996858   numpy solve: 0.026243427004374098\n",
      "Times for 900x900 matrix: \n",
      "GaussJordan solve: 4.003157038001518   numpy solve: 0.02066299699799856\n",
      "Times for 1000x1000 matrix: \n",
      "GaussJordan solve: 5.074650073001976   numpy solve: 0.01828910399490269\n",
      "Times for 1100x1100 matrix: \n",
      "GaussJordan solve: 6.542563021001115   numpy solve: 0.024323569996340666\n",
      "Times for 1200x1200 matrix: \n",
      "GaussJordan solve: 8.194063901995833   numpy solve: 0.047548123002343345\n",
      "Times for 1300x1300 matrix: \n",
      "GaussJordan solve: 9.924030743997719   numpy solve: 0.14894241699948907\n"
     ]
    },
    {
     "ename": "KeyboardInterrupt",
     "evalue": "",
     "output_type": "error",
     "traceback": [
      "\u001b[0;31m---------------------------------------------------------------------------\u001b[0m",
      "\u001b[0;31mKeyboardInterrupt\u001b[0m                         Traceback (most recent call last)",
      "\u001b[1;32m/home/hiro/studia/semestr_4/mownit/MOwNiT_AGH/lab2_cwiczenia/lab2.ipynb Cell 11\u001b[0m in \u001b[0;36m2\n\u001b[1;32m      <a href='vscode-notebook-cell:/home/hiro/studia/semestr_4/mownit/MOwNiT_AGH/lab2_cwiczenia/lab2.ipynb#X13sZmlsZQ%3D%3D?line=0'>1</a>\u001b[0m \u001b[39mfor\u001b[39;00m i \u001b[39min\u001b[39;00m \u001b[39mrange\u001b[39m(table_len):\n\u001b[0;32m----> <a href='vscode-notebook-cell:/home/hiro/studia/semestr_4/mownit/MOwNiT_AGH/lab2_cwiczenia/lab2.ipynb#X13sZmlsZQ%3D%3D?line=1'>2</a>\u001b[0m     gaussJordanTimes(A[i], B[i])\n",
      "\u001b[1;32m/home/hiro/studia/semestr_4/mownit/MOwNiT_AGH/lab2_cwiczenia/lab2.ipynb Cell 11\u001b[0m in \u001b[0;36m7\n\u001b[1;32m      <a href='vscode-notebook-cell:/home/hiro/studia/semestr_4/mownit/MOwNiT_AGH/lab2_cwiczenia/lab2.ipynb#X13sZmlsZQ%3D%3D?line=3'>4</a>\u001b[0m \u001b[39m# print(n)\u001b[39;00m\n\u001b[1;32m      <a href='vscode-notebook-cell:/home/hiro/studia/semestr_4/mownit/MOwNiT_AGH/lab2_cwiczenia/lab2.ipynb#X13sZmlsZQ%3D%3D?line=5'>6</a>\u001b[0m time_s \u001b[39m=\u001b[39m time\u001b[39m.\u001b[39mperf_counter()\n\u001b[0;32m----> <a href='vscode-notebook-cell:/home/hiro/studia/semestr_4/mownit/MOwNiT_AGH/lab2_cwiczenia/lab2.ipynb#X13sZmlsZQ%3D%3D?line=6'>7</a>\u001b[0m result1 \u001b[39m=\u001b[39m solverGaussJordan(a, b)\n\u001b[1;32m      <a href='vscode-notebook-cell:/home/hiro/studia/semestr_4/mownit/MOwNiT_AGH/lab2_cwiczenia/lab2.ipynb#X13sZmlsZQ%3D%3D?line=7'>8</a>\u001b[0m time_gs \u001b[39m=\u001b[39m time\u001b[39m.\u001b[39mperf_counter() \u001b[39m-\u001b[39m time_s\n\u001b[1;32m     <a href='vscode-notebook-cell:/home/hiro/studia/semestr_4/mownit/MOwNiT_AGH/lab2_cwiczenia/lab2.ipynb#X13sZmlsZQ%3D%3D?line=9'>10</a>\u001b[0m time_s \u001b[39m=\u001b[39m time\u001b[39m.\u001b[39mperf_counter()\n",
      "\u001b[1;32m/home/hiro/studia/semestr_4/mownit/MOwNiT_AGH/lab2_cwiczenia/lab2.ipynb Cell 11\u001b[0m in \u001b[0;36m2\n\u001b[1;32m     <a href='vscode-notebook-cell:/home/hiro/studia/semestr_4/mownit/MOwNiT_AGH/lab2_cwiczenia/lab2.ipynb#X13sZmlsZQ%3D%3D?line=19'>20</a>\u001b[0m     \u001b[39mfor\u001b[39;00m k \u001b[39min\u001b[39;00m \u001b[39mrange\u001b[39m(i\u001b[39m+\u001b[39m\u001b[39m1\u001b[39m, n):\n\u001b[1;32m     <a href='vscode-notebook-cell:/home/hiro/studia/semestr_4/mownit/MOwNiT_AGH/lab2_cwiczenia/lab2.ipynb#X13sZmlsZQ%3D%3D?line=20'>21</a>\u001b[0m         a[k] \u001b[39m=\u001b[39m (\u001b[39m-\u001b[39m\u001b[39m1\u001b[39m) \u001b[39m*\u001b[39m (a[k][i] \u001b[39m/\u001b[39m a[i][i]) \u001b[39m*\u001b[39m a[i] \u001b[39m+\u001b[39m a[k]\n\u001b[0;32m---> <a href='vscode-notebook-cell:/home/hiro/studia/semestr_4/mownit/MOwNiT_AGH/lab2_cwiczenia/lab2.ipynb#X13sZmlsZQ%3D%3D?line=21'>22</a>\u001b[0m         a[k][i] \u001b[39m=\u001b[39m \u001b[39m0.0\u001b[39m\n\u001b[1;32m     <a href='vscode-notebook-cell:/home/hiro/studia/semestr_4/mownit/MOwNiT_AGH/lab2_cwiczenia/lab2.ipynb#X13sZmlsZQ%3D%3D?line=22'>23</a>\u001b[0m \u001b[39mfor\u001b[39;00m i \u001b[39min\u001b[39;00m \u001b[39mrange\u001b[39m(n):\n\u001b[1;32m     <a href='vscode-notebook-cell:/home/hiro/studia/semestr_4/mownit/MOwNiT_AGH/lab2_cwiczenia/lab2.ipynb#X13sZmlsZQ%3D%3D?line=23'>24</a>\u001b[0m     tmp \u001b[39m=\u001b[39m a[i][i]\n",
      "\u001b[0;31mKeyboardInterrupt\u001b[0m: "
     ]
    }
   ],
   "source": [
    "for i in range(table_len):\n",
    "    gaussJordanTimes(A[i], B[i])"
   ]
  },
  {
   "attachments": {},
   "cell_type": "markdown",
   "metadata": {},
   "source": [
    "### Zadanie 2 - faktoryzacja"
   ]
  },
  {
   "cell_type": "code",
   "execution_count": 101,
   "metadata": {},
   "outputs": [],
   "source": [
    "def factorization(A):\n",
    "    a = A.copy().astype(np.float64)\n",
    "    n = len(A)\n",
    "    for i in range(n):\n",
    "        for j in range(i+1, n):\n",
    "            x = a[j][i] / a[i][i]\n",
    "            a[j, i:] = (-1) * x * a[i, i:] + a[j, i:]\n",
    "            a[j][i] = -x\n",
    "    L = np.tril(a)\n",
    "    np.fill_diagonal(L, 1)\n",
    "    U = np.triu(a)\n",
    "    return L, U"
   ]
  },
  {
   "cell_type": "code",
   "execution_count": 51,
   "metadata": {},
   "outputs": [],
   "source": [
    "a = np.array([[1,2,3],\n",
    "              [4,5,6],\n",
    "              [7,8,9]], dtype=np.float64)"
   ]
  },
  {
   "cell_type": "code",
   "execution_count": null,
   "metadata": {},
   "outputs": [
    {
     "data": {
      "text/plain": [
       "array([[1.        , 2.        , 3.        ],\n",
       "       [4.        , 1.66666667, 2.        ],\n",
       "       [7.        , 2.66666667, 3.        ]])"
      ]
     },
     "execution_count": 24,
     "metadata": {},
     "output_type": "execute_result"
    }
   ],
   "source": [
    "a[1:,1:] /= 3.0\n",
    "a"
   ]
  },
  {
   "cell_type": "code",
   "execution_count": 40,
   "metadata": {},
   "outputs": [
    {
     "data": {
      "text/plain": [
       "array([[1., 0., 0.],\n",
       "       [4., 5., 0.],\n",
       "       [7., 8., 9.]])"
      ]
     },
     "execution_count": 40,
     "metadata": {},
     "output_type": "execute_result"
    }
   ],
   "source": [
    "# np.triu(a)\n",
    "np.tril(a)\n",
    "# np.fill_diagonal(a, 1)\n"
   ]
  },
  {
   "cell_type": "code",
   "execution_count": 79,
   "metadata": {},
   "outputs": [],
   "source": [
    "b = np.array([[2,2,2],\n",
    "              [4,7,7],\n",
    "              [6,18,22]], dtype=np.float64)"
   ]
  },
  {
   "cell_type": "code",
   "execution_count": 108,
   "metadata": {},
   "outputs": [],
   "source": [
    "# b_factor= factorization(b)\n",
    "l1, u1= factorization(b)\n",
    "\n"
   ]
  }
 ],
 "metadata": {
  "kernelspec": {
   "display_name": "Python 3",
   "language": "python",
   "name": "python3"
  },
  "language_info": {
   "codemirror_mode": {
    "name": "ipython",
    "version": 3
   },
   "file_extension": ".py",
   "mimetype": "text/x-python",
   "name": "python",
   "nbconvert_exporter": "python",
   "pygments_lexer": "ipython3",
   "version": "3.10.6"
  },
  "orig_nbformat": 4,
  "vscode": {
   "interpreter": {
    "hash": "916dbcbb3f70747c44a77c7bcd40155683ae19c65e1c03b4aa3499c5328201f1"
   }
  }
 },
 "nbformat": 4,
 "nbformat_minor": 2
}
