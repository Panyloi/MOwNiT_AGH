{
 "cells": [
  {
   "attachments": {},
   "cell_type": "markdown",
   "metadata": {},
   "source": [
    "## Laboratorium 2"
   ]
  },
  {
   "cell_type": "code",
   "execution_count": 3,
   "metadata": {},
   "outputs": [],
   "source": [
    "import numpy as np\n",
    "import time\n",
    "import networkx as nx\n",
    "import matplotlib as mpl\n",
    "import matplotlib.pyplot as plt"
   ]
  },
  {
   "attachments": {},
   "cell_type": "markdown",
   "metadata": {},
   "source": [
    "### Zadanie 1"
   ]
  },
  {
   "cell_type": "code",
   "execution_count": 4,
   "metadata": {},
   "outputs": [],
   "source": [
    "def findMax(tab, l): # return iterator\n",
    "\n",
    "    max_num = float(\"-inf\")\n",
    "    current_i = l\n",
    "\n",
    "    for i in range(l, len(tab)):\n",
    "        if tab[i][l] > max_num:\n",
    "            current_i = i\n",
    "            max_num = tab[i][l]\n",
    "\n",
    "    return current_i\n"
   ]
  },
  {
   "cell_type": "code",
   "execution_count": 5,
   "metadata": {},
   "outputs": [],
   "source": [
    "def solverGaussJordan(A, B):\n",
    "    n = len(A)\n",
    "\n",
    "    a = A.copy()\n",
    "    b = B.copy()\n",
    "    \n",
    "    a = np.column_stack((a, b))\n",
    "\n",
    "    for i in range(n):\n",
    "\n",
    "        switch_i = findMax(a, i)\n",
    "        a[[i, switch_i], :] = a [[switch_i, i], :]\n",
    "        # print(a)\n",
    "        \n",
    "        for k in range(i):\n",
    "            # print(i)\n",
    "            a[k] = (-1) * (a[k][i] / a[i][i]) * a[i] + a[k]\n",
    "            a[k][i] = 0.0\n",
    "\n",
    "        for k in range(i+1, n):\n",
    "            a[k] = (-1) * (a[k][i] / a[i][i]) * a[i] + a[k]\n",
    "            a[k][i] = 0.0\n",
    "    for i in range(n):\n",
    "        tmp = a[i][i]\n",
    "        a[i][n] /= tmp\n",
    "        a[i][i] /= tmp\n",
    "        \n",
    "\n",
    "    solve = np.ones((n,1), dtype=np.float64)\n",
    "    for i in range(n):\n",
    "        solve[i][0] *= a[i][n]\n",
    "    # print(a) # skasować gdy 500 albo wiecej\n",
    "    return solve\n",
    "    \n"
   ]
  },
  {
   "cell_type": "code",
   "execution_count": 6,
   "metadata": {},
   "outputs": [],
   "source": [
    "a = np.array([(1, 2, 3),\n",
    "              (4, 5, 6),\n",
    "              (7, 8, 9)], dtype=np.float64)\n",
    "b = np.array([(1,),\n",
    "              (2,),\n",
    "              (3,)], np.float64)\n",
    "\n",
    "# Dla 500\n",
    "# A = np.random.uniform(0,10, (500, 500))\n",
    "# B = np.random.uniform(0,10, (500,1))\n",
    "\n",
    "A = np.random.uniform(0,10, (3, 3))\n",
    "B = np.random.uniform(0,10, (3,1))\n"
   ]
  },
  {
   "cell_type": "code",
   "execution_count": 7,
   "metadata": {},
   "outputs": [],
   "source": [
    "def gaussJordanTimes(a, b):\n",
    "    time_s = 0\n",
    "    n = len(a)\n",
    "    # print(n)\n",
    "    \n",
    "    time_s = time.perf_counter()\n",
    "    result1 = solverGaussJordan(a, b)\n",
    "    time_gs = time.perf_counter() - time_s\n",
    "\n",
    "    time_s = time.perf_counter()\n",
    "    result2 = np.linalg.solve(a, b)\n",
    "    time_np_solve = time.perf_counter() - time_s\n",
    "    \n",
    "    if np.allclose(result1, result2):\n",
    "        print(\"Times for {length}x{length} matrix: \\n\\\n",
    "GaussJordan solve: {GJ}   numpy solve: {np_solve}\".format(length = n, GJ = time_gs, np_solve = time_np_solve))\n",
    "\n",
    "    else:\n",
    "        print(\"Błędnie wyliczony wynik.\")"
   ]
  },
  {
   "cell_type": "code",
   "execution_count": 8,
   "metadata": {},
   "outputs": [
    {
     "name": "stdout",
     "output_type": "stream",
     "text": [
      "True\n",
      "[[ 4.24841575]\n",
      " [-3.68845708]\n",
      " [ 1.87590199]]\n"
     ]
    }
   ],
   "source": [
    "result1 = solverGaussJordan(A, B)\n",
    "np_result1 = np.linalg.solve(A,B)\n",
    "print(np.allclose(np_result1, result1))\n",
    "print(result1)"
   ]
  },
  {
   "attachments": {},
   "cell_type": "markdown",
   "metadata": {},
   "source": [
    "Porównanie czasu wykonania własno-zaimplementowanego algorytmu z algorytmem z biblioteki numpy\n"
   ]
  },
  {
   "cell_type": "code",
   "execution_count": 9,
   "metadata": {},
   "outputs": [],
   "source": [
    "n = 100\n",
    "table_len = 15\n",
    "A = [np.random.randint(0, 100, (n * i, n * i)).astype(np.float64) for i in range(1, table_len + 1)]\n",
    "B = [np.random.randint(0, 100, (n * i, 1)).astype(np.float64) for i in range(1, table_len + 1)]"
   ]
  },
  {
   "cell_type": "code",
   "execution_count": 24,
   "metadata": {},
   "outputs": [
    {
     "name": "stdout",
     "output_type": "stream",
     "text": [
      "Times for 100x100 matrix: \n",
      "GaussJordan solve: 0.04940376099693822   numpy solve: 0.007131532001949381\n",
      "Times for 200x200 matrix: \n",
      "GaussJordan solve: 0.1923043329952634   numpy solve: 0.03221687400218798\n",
      "Times for 300x300 matrix: \n",
      "GaussJordan solve: 0.3639812740002526   numpy solve: 0.07934849799494259\n",
      "Times for 400x400 matrix: \n",
      "GaussJordan solve: 0.6778506709961221   numpy solve: 0.1314505639966228\n",
      "Times for 500x500 matrix: \n",
      "GaussJordan solve: 1.066565916997206   numpy solve: 0.0077311860004556365\n",
      "Times for 600x600 matrix: \n",
      "GaussJordan solve: 1.5990696270018816   numpy solve: 0.02043770499585662\n",
      "Times for 700x700 matrix: \n",
      "GaussJordan solve: 2.240836890996434   numpy solve: 0.007928277002065443\n",
      "Times for 800x800 matrix: \n",
      "GaussJordan solve: 3.1222133910050616   numpy solve: 0.031608698998752516\n",
      "Times for 900x900 matrix: \n",
      "GaussJordan solve: 4.369718711997848   numpy solve: 0.26409785500436556\n",
      "Times for 1000x1000 matrix: \n",
      "GaussJordan solve: 5.329039288997592   numpy solve: 0.02142337000259431\n",
      "Times for 1100x1100 matrix: \n",
      "GaussJordan solve: 6.773119388999476   numpy solve: 0.17913288599811494\n",
      "Times for 1200x1200 matrix: \n",
      "GaussJordan solve: 8.281742064995342   numpy solve: 0.2861466539980029\n",
      "Times for 1300x1300 matrix: \n",
      "GaussJordan solve: 10.071132263001346   numpy solve: 0.03993681699648732\n",
      "Times for 1400x1400 matrix: \n",
      "GaussJordan solve: 11.833632799993211   numpy solve: 0.2034881840008893\n",
      "Times for 1500x1500 matrix: \n",
      "GaussJordan solve: 14.126549194996187   numpy solve: 0.09283311699982733\n"
     ]
    }
   ],
   "source": [
    "for i in range(table_len):\n",
    "    gaussJordanTimes(A[i], B[i])"
   ]
  },
  {
   "attachments": {},
   "cell_type": "markdown",
   "metadata": {},
   "source": [
    "### Zadanie 2 - faktoryzacja"
   ]
  },
  {
   "cell_type": "code",
   "execution_count": 11,
   "metadata": {},
   "outputs": [],
   "source": [
    "def factorization(A):\n",
    "    a = A.copy().astype(np.float64)\n",
    "    n = len(A)\n",
    "    for i in range(n):\n",
    "        for j in range(i+1, n):\n",
    "            x = a[j][i] / a[i][i]\n",
    "            a[j, i:] = (-1) * x * a[i, i:] + a[j, i:]\n",
    "            a[j][i] = x\n",
    "    L = np.tril(a)\n",
    "    np.fill_diagonal(L, 1)\n",
    "    U = np.triu(a)\n",
    "    return L, U"
   ]
  },
  {
   "attachments": {},
   "cell_type": "markdown",
   "metadata": {},
   "source": [
    "Testowanie poprawności faktoryzacji macierzy"
   ]
  },
  {
   "cell_type": "code",
   "execution_count": 12,
   "metadata": {},
   "outputs": [],
   "source": [
    "matrix1 = np.array([[1,2,3],\n",
    "              [4,5,6],\n",
    "              [7,8,9]], dtype=np.float64)"
   ]
  },
  {
   "cell_type": "code",
   "execution_count": 13,
   "metadata": {},
   "outputs": [],
   "source": [
    "matrix2 = np.array([[2,2,2],\n",
    "                    [4,7,7],\n",
    "                    [6,18,22]], dtype=np.float64)"
   ]
  },
  {
   "cell_type": "code",
   "execution_count": 14,
   "metadata": {},
   "outputs": [
    {
     "data": {
      "text/plain": [
       "True"
      ]
     },
     "execution_count": 14,
     "metadata": {},
     "output_type": "execute_result"
    }
   ],
   "source": [
    "l1, u1 = factorization(matrix1)\n",
    "np.allclose(matrix1 - l1@u1, np.zeros((3,3)))"
   ]
  },
  {
   "cell_type": "code",
   "execution_count": 15,
   "metadata": {},
   "outputs": [
    {
     "name": "stdout",
     "output_type": "stream",
     "text": [
      "[[1. 0. 0.]\n",
      " [4. 1. 0.]\n",
      " [7. 2. 1.]]\n",
      "[[ 1.  2.  3.]\n",
      " [ 0. -3. -6.]\n",
      " [ 0.  0.  0.]]\n"
     ]
    }
   ],
   "source": [
    "print(l1)\n",
    "print(u1)"
   ]
  },
  {
   "cell_type": "code",
   "execution_count": 16,
   "metadata": {},
   "outputs": [
    {
     "data": {
      "text/plain": [
       "True"
      ]
     },
     "execution_count": 16,
     "metadata": {},
     "output_type": "execute_result"
    }
   ],
   "source": [
    "l2, u2 = factorization(matrix2)\n",
    "np.allclose(matrix2 - l2@u2, np.zeros((3,3)))"
   ]
  },
  {
   "attachments": {},
   "cell_type": "markdown",
   "metadata": {},
   "source": [
    "### Zadanie 3 - analiza obwodu elektrycznego\n"
   ]
  },
  {
   "cell_type": "code",
   "execution_count": 74,
   "metadata": {},
   "outputs": [],
   "source": [
    "def loadGraph(filename: str):\n",
    "    with open(filename, \"r\") as file:\n",
    "        graph = [[] for i in range(int(file.readline()))]\n",
    "        sem = file.readline().split()\n",
    "        S, T, E = int(sem[0]), int(sem[1]), int(sem[2])\n",
    "        lines = file.readlines()\n",
    "        for line in lines:\n",
    "            s = line.split()\n",
    "            if len(s) < 3:\n",
    "                continue\n",
    "            u = int(s[0]) - 1\n",
    "            v = int(s[1]) - 1\n",
    "            cost = int(s[2])\n",
    "            graph[u].append((v, cost))\n",
    "            graph[v].append((u, cost))\n",
    "    \n",
    "    return graph, S, T, E\n"
   ]
  },
  {
   "cell_type": "code",
   "execution_count": 77,
   "metadata": {},
   "outputs": [],
   "source": [
    "graph, s, t, E = loadGraph(\"graf.txt\")"
   ]
  },
  {
   "cell_type": "code",
   "execution_count": 78,
   "metadata": {},
   "outputs": [
    {
     "name": "stdout",
     "output_type": "stream",
     "text": [
      "[[(1, 3), (3, 1), (5, 1)], [(0, 3), (4, 2), (6, 5)], [(4, 2), (5, 1)], [(0, 1), (5, 3)], [(1, 2), (2, 2)], [(0, 1), (2, 1), (3, 3)], [(1, 5)]]\n"
     ]
    }
   ],
   "source": [
    "print(graph)"
   ]
  },
  {
   "cell_type": "code",
   "execution_count": 79,
   "metadata": {},
   "outputs": [
    {
     "name": "stdout",
     "output_type": "stream",
     "text": [
      "1 5 5\n"
     ]
    }
   ],
   "source": [
    "print(s, t, E)"
   ]
  },
  {
   "cell_type": "code",
   "execution_count": 157,
   "metadata": {},
   "outputs": [],
   "source": [
    "def graphToNx(graph, s, t):\n",
    "\n",
    "    fig, ax1 = plt.subplots()\n",
    "\n",
    "    G = nx.Graph()\n",
    "    n = len(graph)\n",
    "    max_weigh = 0\n",
    "\n",
    "    for i in range(n):\n",
    "        for j, cost in graph[i]:\n",
    "            G.add_edge(i, j, weight = cost)\n",
    "            max_weigh = max(cost, max_weigh)\n",
    "    \n",
    "\n",
    "    pos = nx.spring_layout(G)\n",
    "\n",
    "    edges = G.edges()\n",
    "    weights = [G[u][v]['weight'] for u,v in edges]\n",
    "    print(edges)\n",
    "    # bounds = np.linspace(0, max_weigh, max_weigh + 1)\n",
    "    bounds = np.linspace(0, max_weigh, max_weigh + 1)\n",
    "    cmap = plt.cm.jet\n",
    "\n",
    "    norm = mpl.colors.BoundaryNorm(bounds, cmap.N)\n",
    "    ax2 = fig.add_axes([0.95, 0.1, 0.03, 0.8])\n",
    "    \n",
    "    edges,weights = zip(*nx.get_edge_attributes(G,'weight').items())\n",
    "    print(edges)\n",
    "\n",
    "    nx.draw(G, pos = pos, width = 3, edge_color=weights, edge_cmap = cmap, with_labels = True, ax = ax1)\n",
    "\n",
    "    print(weights)\n",
    "    cb = mpl.colorbar.ColorbarBase(ax2, cmap=cmap, norm=norm,\n",
    "    spacing='proportional', ticks=bounds, boundaries=bounds, format='%1i')\n",
    "\n",
    "    \n",
    "\n",
    "    \n"
   ]
  },
  {
   "cell_type": "code",
   "execution_count": 158,
   "metadata": {},
   "outputs": [
    {
     "name": "stdout",
     "output_type": "stream",
     "text": [
      "[(0, 1), (0, 3), (0, 5), (1, 4), (1, 6), (3, 5), (5, 2), (4, 2)]\n",
      "((0, 1), (0, 3), (0, 5), (1, 4), (1, 6), (3, 5), (5, 2), (4, 2))\n",
      "(3, 1, 1, 2, 5, 3, 1, 2)\n"
     ]
    },
    {
     "data": {
      "image/png": "[encoded data removed]",
      "text/plain": [
       "<Figure size 640x480 with 2 Axes>"
      ]
     },
     "metadata": {},
     "output_type": "display_data"
    }
   ],
   "source": [
    "graphToNx(graph, s, t)"
   ]
  }
 ],
 "metadata": {
  "kernelspec": {
   "display_name": "Python 3",
   "language": "python",
   "name": "python3"
  },
  "language_info": {
   "codemirror_mode": {
    "name": "ipython",
    "version": 3
   },
   "file_extension": ".py",
   "mimetype": "text/x-python",
   "name": "python",
   "nbconvert_exporter": "python",
   "pygments_lexer": "ipython3",
   "version": "3.10.6"
  },
  "orig_nbformat": 4,
  "vscode": {
   "interpreter": {
    "hash": "916dbcbb3f70747c44a77c7bcd40155683ae19c65e1c03b4aa3499c5328201f1"
   }
  }
 },
 "nbformat": 4,
 "nbformat_minor": 2
}
