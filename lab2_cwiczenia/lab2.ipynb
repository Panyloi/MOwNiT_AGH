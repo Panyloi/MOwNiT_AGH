{
 "cells": [
  {
   "attachments": {},
   "cell_type": "markdown",
   "metadata": {},
   "source": [
    "## Laboratorium 2"
   ]
  },
  {
   "cell_type": "code",
   "execution_count": 2,
   "metadata": {},
   "outputs": [],
   "source": [
    "import numpy as np"
   ]
  },
  {
   "attachments": {},
   "cell_type": "markdown",
   "metadata": {},
   "source": [
    "### Zadanie 1"
   ]
  },
  {
   "cell_type": "code",
   "execution_count": 22,
   "metadata": {},
   "outputs": [],
   "source": [
    "def findMax(tab, l): # return iterator\n",
    "\n",
    "    max_num = float(\"-inf\")\n",
    "    current_i = l\n",
    "\n",
    "    for i in range(l, len(tab)):\n",
    "        if tab[i][l] > max_num:\n",
    "            current_i = i\n",
    "            max_num = tab[i][l]\n",
    "\n",
    "    return current_i\n"
   ]
  },
  {
   "cell_type": "code",
   "execution_count": 83,
   "metadata": {},
   "outputs": [],
   "source": [
    "def solverGaussJordan(A, B):\n",
    "    n = len(A)\n",
    "\n",
    "    a = A.copy()\n",
    "    b = B.copy()\n",
    "    \n",
    "    a = np.column_stack((a, b))\n",
    "\n",
    "    for i in range(n):\n",
    "\n",
    "        switch_i = findMax(a, i)\n",
    "        a[[i, switch_i], :] = a [[switch_i, i], :]\n",
    "        # print(a)\n",
    "        \n",
    "        for k in range(i):\n",
    "            # print(i)\n",
    "            a[k] = (-1) * (a[k][i] / a[i][i]) * a[i] + a[k]\n",
    "            a[k][i] = 0.0\n",
    "\n",
    "        for k in range(i+1, n):\n",
    "            a[k] = (-1) * (a[k][i] / a[i][i]) * a[i] + a[k]\n",
    "            a[k][i] = 0.0\n",
    "    for i in range(n):\n",
    "        tmp = a[i][i]\n",
    "        a[i][n] /= tmp\n",
    "        a[i][i] /= tmp\n",
    "        \n",
    "\n",
    "    solve = np.ones((n,1), dtype=np.float64)\n",
    "    for i in range(n):\n",
    "        solve[i][0] *= a[i][n]\n",
    "    print(a) # skasować gdy 500 albo wiecej\n",
    "    return solve\n",
    "    \n"
   ]
  },
  {
   "cell_type": "code",
   "execution_count": 84,
   "metadata": {},
   "outputs": [],
   "source": [
    "a = np.array([(1, 2, 3),\n",
    "              (4, 5, 6),\n",
    "              (7, 8, 9)], dtype=np.float64)\n",
    "b = np.array([(1,),\n",
    "              (2,),\n",
    "              (3,)], np.float64)\n",
    "\n",
    "# Dla 500\n",
    "# A = np.random.uniform(0,10, (500, 500))\n",
    "# B = np.random.uniform(0,10, (500,1))\n",
    "\n",
    "A = np.random.uniform(0,10, (3, 3))\n",
    "B = np.random.uniform(0,10, (3,1))\n"
   ]
  },
  {
   "cell_type": "code",
   "execution_count": 85,
   "metadata": {},
   "outputs": [
    {
     "name": "stdout",
     "output_type": "stream",
     "text": [
      "[[ 1.          0.          0.         -0.44060547]\n",
      " [ 0.          1.          0.          1.34493449]\n",
      " [ 0.          0.          1.          0.13525461]]\n",
      "True\n",
      "[[-0.44060547]\n",
      " [ 1.34493449]\n",
      " [ 0.13525461]]\n"
     ]
    }
   ],
   "source": [
    "result1 = solverGaussJordan(A, B)\n",
    "np_result1 = np.linalg.solve(A,B)\n",
    "print(np.allclose(np_result1, result1))\n",
    "print(result1)"
   ]
  },
  {
   "cell_type": "code",
   "execution_count": null,
   "metadata": {},
   "outputs": [],
   "source": []
  }
 ],
 "metadata": {
  "kernelspec": {
   "display_name": "Python 3",
   "language": "python",
   "name": "python3"
  },
  "language_info": {
   "codemirror_mode": {
    "name": "ipython",
    "version": 3
   },
   "file_extension": ".py",
   "mimetype": "text/x-python",
   "name": "python",
   "nbconvert_exporter": "python",
   "pygments_lexer": "ipython3",
   "version": "3.10.6"
  },
  "orig_nbformat": 4,
  "vscode": {
   "interpreter": {
    "hash": "916dbcbb3f70747c44a77c7bcd40155683ae19c65e1c03b4aa3499c5328201f1"
   }
  }
 },
 "nbformat": 4,
 "nbformat_minor": 2
}
