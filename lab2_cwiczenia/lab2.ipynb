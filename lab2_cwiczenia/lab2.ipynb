{
 "cells": [
  {
   "attachments": {},
   "cell_type": "markdown",
   "metadata": {},
   "source": [
    "## Laboratorium 2"
   ]
  },
  {
   "cell_type": "code",
   "execution_count": 206,
   "metadata": {},
   "outputs": [],
   "source": [
    "import numpy as np\n",
    "import time\n",
    "import networkx as nx\n",
    "import matplotlib as mpl\n",
    "import matplotlib.pyplot as plt\n",
    "import random\n",
    "from itertools import combinations, groupby\n",
    "from copy import deepcopy"
   ]
  },
  {
   "attachments": {},
   "cell_type": "markdown",
   "metadata": {},
   "source": [
    "### Zadanie 1"
   ]
  },
  {
   "cell_type": "code",
   "execution_count": 4,
   "metadata": {},
   "outputs": [],
   "source": [
    "def findMax(tab, l): # return iterator\n",
    "\n",
    "    max_num = float(\"-inf\")\n",
    "    current_i = l\n",
    "\n",
    "    for i in range(l, len(tab)):\n",
    "        if tab[i][l] > max_num:\n",
    "            current_i = i\n",
    "            max_num = tab[i][l]\n",
    "\n",
    "    return current_i\n"
   ]
  },
  {
   "cell_type": "code",
   "execution_count": 5,
   "metadata": {},
   "outputs": [],
   "source": [
    "def solverGaussJordan(A, B):\n",
    "    n = len(A)\n",
    "\n",
    "    a = A.copy()\n",
    "    b = B.copy()\n",
    "    \n",
    "    a = np.column_stack((a, b))\n",
    "\n",
    "    for i in range(n):\n",
    "\n",
    "        switch_i = findMax(a, i)\n",
    "        a[[i, switch_i], :] = a [[switch_i, i], :]\n",
    "        # print(a)\n",
    "        \n",
    "        for k in range(i):\n",
    "            # print(i)\n",
    "            a[k] = (-1) * (a[k][i] / a[i][i]) * a[i] + a[k]\n",
    "            a[k][i] = 0.0\n",
    "\n",
    "        for k in range(i+1, n):\n",
    "            a[k] = (-1) * (a[k][i] / a[i][i]) * a[i] + a[k]\n",
    "            a[k][i] = 0.0\n",
    "    for i in range(n):\n",
    "        tmp = a[i][i]\n",
    "        a[i][n] /= tmp\n",
    "        a[i][i] /= tmp\n",
    "        \n",
    "\n",
    "    solve = np.ones((n,1), dtype=np.float64)\n",
    "    for i in range(n):\n",
    "        solve[i][0] *= a[i][n]\n",
    "    # print(a) # skasować gdy 500 albo wiecej\n",
    "    return solve\n",
    "    \n"
   ]
  },
  {
   "cell_type": "code",
   "execution_count": 6,
   "metadata": {},
   "outputs": [],
   "source": [
    "a = np.array([(1, 2, 3),\n",
    "              (4, 5, 6),\n",
    "              (7, 8, 9)], dtype=np.float64)\n",
    "b = np.array([(1,),\n",
    "              (2,),\n",
    "              (3,)], np.float64)\n",
    "\n",
    "# Dla 500\n",
    "# A = np.random.uniform(0,10, (500, 500))\n",
    "# B = np.random.uniform(0,10, (500,1))\n",
    "\n",
    "A = np.random.uniform(0,10, (3, 3))\n",
    "B = np.random.uniform(0,10, (3,1))\n"
   ]
  },
  {
   "cell_type": "code",
   "execution_count": 7,
   "metadata": {},
   "outputs": [],
   "source": [
    "def gaussJordanTimes(a, b):\n",
    "    time_s = 0\n",
    "    n = len(a)\n",
    "    # print(n)\n",
    "    \n",
    "    time_s = time.perf_counter()\n",
    "    result1 = solverGaussJordan(a, b)\n",
    "    time_gs = time.perf_counter() - time_s\n",
    "\n",
    "    time_s = time.perf_counter()\n",
    "    result2 = np.linalg.solve(a, b)\n",
    "    time_np_solve = time.perf_counter() - time_s\n",
    "    \n",
    "    if np.allclose(result1, result2):\n",
    "        print(\"Times for {length}x{length} matrix: \\n\\\n",
    "GaussJordan solve: {GJ}   numpy solve: {np_solve}\".format(length = n, GJ = time_gs, np_solve = time_np_solve))\n",
    "\n",
    "    else:\n",
    "        print(\"Błędnie wyliczony wynik.\")"
   ]
  },
  {
   "cell_type": "code",
   "execution_count": 8,
   "metadata": {},
   "outputs": [
    {
     "name": "stdout",
     "output_type": "stream",
     "text": [
      "True\n",
      "[[ 4.24841575]\n",
      " [-3.68845708]\n",
      " [ 1.87590199]]\n"
     ]
    }
   ],
   "source": [
    "result1 = solverGaussJordan(A, B)\n",
    "np_result1 = np.linalg.solve(A,B)\n",
    "print(np.allclose(np_result1, result1))\n",
    "print(result1)"
   ]
  },
  {
   "attachments": {},
   "cell_type": "markdown",
   "metadata": {},
   "source": [
    "Porównanie czasu wykonania własno-zaimplementowanego algorytmu z algorytmem z biblioteki numpy\n"
   ]
  },
  {
   "cell_type": "code",
   "execution_count": 9,
   "metadata": {},
   "outputs": [],
   "source": [
    "n = 100\n",
    "table_len = 15\n",
    "A = [np.random.randint(0, 100, (n * i, n * i)).astype(np.float64) for i in range(1, table_len + 1)]\n",
    "B = [np.random.randint(0, 100, (n * i, 1)).astype(np.float64) for i in range(1, table_len + 1)]"
   ]
  },
  {
   "cell_type": "code",
   "execution_count": 24,
   "metadata": {},
   "outputs": [
    {
     "name": "stdout",
     "output_type": "stream",
     "text": [
      "Times for 100x100 matrix: \n",
      "GaussJordan solve: 0.04940376099693822   numpy solve: 0.007131532001949381\n",
      "Times for 200x200 matrix: \n",
      "GaussJordan solve: 0.1923043329952634   numpy solve: 0.03221687400218798\n",
      "Times for 300x300 matrix: \n",
      "GaussJordan solve: 0.3639812740002526   numpy solve: 0.07934849799494259\n",
      "Times for 400x400 matrix: \n",
      "GaussJordan solve: 0.6778506709961221   numpy solve: 0.1314505639966228\n",
      "Times for 500x500 matrix: \n",
      "GaussJordan solve: 1.066565916997206   numpy solve: 0.0077311860004556365\n",
      "Times for 600x600 matrix: \n",
      "GaussJordan solve: 1.5990696270018816   numpy solve: 0.02043770499585662\n",
      "Times for 700x700 matrix: \n",
      "GaussJordan solve: 2.240836890996434   numpy solve: 0.007928277002065443\n",
      "Times for 800x800 matrix: \n",
      "GaussJordan solve: 3.1222133910050616   numpy solve: 0.031608698998752516\n",
      "Times for 900x900 matrix: \n",
      "GaussJordan solve: 4.369718711997848   numpy solve: 0.26409785500436556\n",
      "Times for 1000x1000 matrix: \n",
      "GaussJordan solve: 5.329039288997592   numpy solve: 0.02142337000259431\n",
      "Times for 1100x1100 matrix: \n",
      "GaussJordan solve: 6.773119388999476   numpy solve: 0.17913288599811494\n",
      "Times for 1200x1200 matrix: \n",
      "GaussJordan solve: 8.281742064995342   numpy solve: 0.2861466539980029\n",
      "Times for 1300x1300 matrix: \n",
      "GaussJordan solve: 10.071132263001346   numpy solve: 0.03993681699648732\n",
      "Times for 1400x1400 matrix: \n",
      "GaussJordan solve: 11.833632799993211   numpy solve: 0.2034881840008893\n",
      "Times for 1500x1500 matrix: \n",
      "GaussJordan solve: 14.126549194996187   numpy solve: 0.09283311699982733\n"
     ]
    }
   ],
   "source": [
    "for i in range(table_len):\n",
    "    gaussJordanTimes(A[i], B[i])"
   ]
  },
  {
   "attachments": {},
   "cell_type": "markdown",
   "metadata": {},
   "source": [
    "### Zadanie 2 - faktoryzacja"
   ]
  },
  {
   "cell_type": "code",
   "execution_count": 11,
   "metadata": {},
   "outputs": [],
   "source": [
    "def factorization(A):\n",
    "    a = A.copy().astype(np.float64)\n",
    "    n = len(A)\n",
    "    for i in range(n):\n",
    "        for j in range(i+1, n):\n",
    "            x = a[j][i] / a[i][i]\n",
    "            a[j, i:] = (-1) * x * a[i, i:] + a[j, i:]\n",
    "            a[j][i] = x\n",
    "    L = np.tril(a)\n",
    "    np.fill_diagonal(L, 1)\n",
    "    U = np.triu(a)\n",
    "    return L, U"
   ]
  },
  {
   "attachments": {},
   "cell_type": "markdown",
   "metadata": {},
   "source": [
    "Testowanie poprawności faktoryzacji macierzy"
   ]
  },
  {
   "cell_type": "code",
   "execution_count": 12,
   "metadata": {},
   "outputs": [],
   "source": [
    "matrix1 = np.array([[1,2,3],\n",
    "              [4,5,6],\n",
    "              [7,8,9]], dtype=np.float64)"
   ]
  },
  {
   "cell_type": "code",
   "execution_count": 13,
   "metadata": {},
   "outputs": [],
   "source": [
    "matrix2 = np.array([[2,2,2],\n",
    "                    [4,7,7],\n",
    "                    [6,18,22]], dtype=np.float64)"
   ]
  },
  {
   "cell_type": "code",
   "execution_count": 14,
   "metadata": {},
   "outputs": [
    {
     "data": {
      "text/plain": [
       "True"
      ]
     },
     "execution_count": 14,
     "metadata": {},
     "output_type": "execute_result"
    }
   ],
   "source": [
    "l1, u1 = factorization(matrix1)\n",
    "np.allclose(matrix1 - l1@u1, np.zeros((3,3)))"
   ]
  },
  {
   "cell_type": "code",
   "execution_count": 15,
   "metadata": {},
   "outputs": [
    {
     "name": "stdout",
     "output_type": "stream",
     "text": [
      "[[1. 0. 0.]\n",
      " [4. 1. 0.]\n",
      " [7. 2. 1.]]\n",
      "[[ 1.  2.  3.]\n",
      " [ 0. -3. -6.]\n",
      " [ 0.  0.  0.]]\n"
     ]
    }
   ],
   "source": [
    "print(l1)\n",
    "print(u1)"
   ]
  },
  {
   "cell_type": "code",
   "execution_count": 16,
   "metadata": {},
   "outputs": [
    {
     "data": {
      "text/plain": [
       "True"
      ]
     },
     "execution_count": 16,
     "metadata": {},
     "output_type": "execute_result"
    }
   ],
   "source": [
    "l2, u2 = factorization(matrix2)\n",
    "np.allclose(matrix2 - l2@u2, np.zeros((3,3)))"
   ]
  },
  {
   "attachments": {},
   "cell_type": "markdown",
   "metadata": {},
   "source": [
    "### Zadanie 3 - analiza obwodu elektrycznego\n"
   ]
  },
  {
   "attachments": {},
   "cell_type": "markdown",
   "metadata": {},
   "source": [
    "Loading graph from file - graph will we stored as list of lists and list of dictionaries to simplify searching through graph."
   ]
  },
  {
   "cell_type": "code",
   "execution_count": 188,
   "metadata": {},
   "outputs": [],
   "source": [
    "def loadGraph(filename: str):\n",
    "    with open(filename, \"r\") as file:\n",
    "        n = int(file.readline())\n",
    "\n",
    "        graph = [[] for i in range(n)]\n",
    "        dict_graph = [dict() for i in range(n)]\n",
    "        # sem = file.readline().split()\n",
    "        # S, T, E = int(sem[0]) - 1, int(sem[1]) - 1, int(sem[2])\n",
    "        lines = file.readlines()\n",
    "        for line in lines:\n",
    "            s = line.split()\n",
    "            if len(s) < 3:\n",
    "                continue\n",
    "            u = int(s[0]) - 1\n",
    "            v = int(s[1]) - 1\n",
    "            cost = int(s[2])\n",
    "            dict_graph[u][v] = [cost, None]\n",
    "            dict_graph[v][u] = [cost, None]\n",
    "            graph[u].append([v, cost])\n",
    "            graph[v].append([u, cost])\n",
    "            # di_graph[u].append([v, cost, None])\n",
    "    # graph[S].append([T, E])\n",
    "    # graph[T].append([S, E])\n",
    "    # di_graph[S][T] = [E, None, 0]\n",
    "    # di_graph[T][S] = [E, None, 0]\n",
    "\n",
    "    return graph, dict_graph\n"
   ]
  },
  {
   "attachments": {},
   "cell_type": "markdown",
   "metadata": {},
   "source": [
    "Loading additional triplet (s, t, E), where *s* i *t* are nodes, between these a SEM of E value was applied"
   ]
  },
  {
   "cell_type": "code",
   "execution_count": 208,
   "metadata": {},
   "outputs": [],
   "source": [
    "def loadSEM(s, t, E, graph_org, dict_graph_org):\n",
    "    graph = deepcopy(graph_org)\n",
    "    dict_graph = deepcopy(dict_graph_org)\n",
    "    graph[s].append([t, E])\n",
    "    graph[t].append([s, E])\n",
    "    dict_graph[s][t] = [E, None]\n",
    "    dict_graph[t][s] = [E, None]\n",
    "    # return new graphs with SEM \n",
    "    return graph, dict_graph"
   ]
  },
  {
   "attachments": {},
   "cell_type": "markdown",
   "metadata": {},
   "source": [
    "Prescribing resolved graph to networkx library for simpler drawning."
   ]
  },
  {
   "cell_type": "code",
   "execution_count": 149,
   "metadata": {},
   "outputs": [],
   "source": [
    "def graphToNx(graph, s, t, flag = True):\n",
    "    fig, ax1 = plt.subplots(figsize = (10, 10))\n",
    "\n",
    "    G = nx.DiGraph()\n",
    "    n = len(graph)\n",
    "    max_weigh = 0\n",
    "\n",
    "\n",
    "    labels = {}\n",
    "    if flag:\n",
    "        for i in range(n):\n",
    "            for j, cost in graph[i]:\n",
    "                G.add_edge(i, j, weight=cost)\n",
    "                max_weigh = max(cost, max_weigh)\n",
    "\n",
    "    else:\n",
    "        # H = nx.random_regular_graph(3, 500)\n",
    "        G = nx.fast_gnp_random_graph(50, 0.3, directed=True)\n",
    "        # G = nx.grid_2d_graph(5, 5)\n",
    "        # G = H.to_directed()\n",
    "        for (u, v) in G.edges():\n",
    "            x = random.randint(0,10)\n",
    "            max_weigh = max(x, max_weigh)\n",
    "            G.edges[u,v]['weight'] = x\n",
    "\n",
    "    # pos = nx.planar_layout(G)\n",
    "    # pos = nx.spring_layout(G)\n",
    "    # pos = nx.random_layout(G)\n",
    "    pos = nx.circular_layout(G)\n",
    "    # print(nx.cycle_basis(G,s))\n",
    "    for node in G.nodes():\n",
    "        labels[node] = node\n",
    "\n",
    "    # bounds = np.linspace(0, max_weigh, int(min(max_weigh + 1, 255)))\n",
    "    # tickks = np.linspace(0, max_weigh, int(min(10, max_weigh + 1)))\n",
    "    cos = [0]\n",
    "    jakto = np.linspace(10e-5, max_weigh, 5)\n",
    "    for i in range(len(jakto)):\n",
    "        cos.append(jakto[i])\n",
    "    bounds =cos\n",
    "\n",
    "    # bounds = [0.5, 0.7, 1.5, 2]\n",
    "    # tickks = np.linspace(0, max_weigh, 5)\n",
    "    tickks = bounds\n",
    "    # tickks = [0.5, 0.7, 1.5, 2]\n",
    "\n",
    "\n",
    "    cmap = plt.cm.jet\n",
    "    # print(cmap.N)\n",
    "    norm = mpl.colors.BoundaryNorm(bounds, cmap.N)\n",
    "    ax2 = fig.add_axes([0.95, 0.1, 0.03, 0.8])\n",
    "\n",
    "    edges, weights = zip(*nx.get_edge_attributes(G, \"weight\").items())\n",
    "\n",
    "    weights = list(weights)\n",
    "    k = len(weights)\n",
    "    for i in range(k):\n",
    "        for j in range(len(bounds)):\n",
    "            if weights[i] < bounds[j]:\n",
    "                weights[i] = bounds[j]\n",
    "                break\n",
    "\n",
    "    # nx.draw(G, pos = pos, width = 3, edge_color=weights, edge_cmap = cmap, with_labels = True, ax = ax1)\n",
    "    nx.draw_networkx_nodes(G, pos=pos, ax=ax1, node_size=100, edgecolors='r', node_color='w')\n",
    "    nx.draw_networkx_edges(\n",
    "        G,\n",
    "        pos=pos,\n",
    "        width=3,\n",
    "        arrowstyle=\"->\",\n",
    "        arrowsize=5,\n",
    "        edge_color=weights,\n",
    "        edge_cmap=cmap,\n",
    "        ax=ax1,\n",
    "    )\n",
    "\n",
    "    nx.draw_networkx_labels(G, pos, labels, font_size=6, font_color=\"r\", ax = ax1)\n",
    "\n",
    "    # print(nx.cycle_basis(G, 0))\n",
    "    print(len(G.edges))\n",
    "    \n",
    "    # nx.draw(G, with_labels=True)\n",
    "    # nx.draw(G, with_labels = True, ax = ax1)\n",
    "    # print(weights)\n",
    "    cb = mpl.colorbar.ColorbarBase(\n",
    "        ax2,\n",
    "        cmap=cmap,\n",
    "        norm=norm,\n",
    "        spacing=\"proportional\",\n",
    "        ticks=tickks,\n",
    "        boundaries=bounds,\n",
    "        format=\"%.5f\",\n",
    "    )\n",
    "    plt.show()\n",
    "    # plt.savefig(\"graph.png\", dpi=1000)\n",
    "\n"
   ]
  },
  {
   "attachments": {},
   "cell_type": "markdown",
   "metadata": {},
   "source": [
    "Finding basics cycles in graph - Paton's algorithm"
   ]
  },
  {
   "cell_type": "code",
   "execution_count": 7,
   "metadata": {},
   "outputs": [],
   "source": [
    "def paton(G, root = None):\n",
    "    \n",
    "    nodes_of_graph = set(range(len(G)))\n",
    "    cycles = []\n",
    "    # checking all connected components\n",
    "    while nodes_of_graph:\n",
    "        if root is None:\n",
    "            root = nodes_of_graph.pop() \n",
    "        stack = [root]\n",
    "        parent = {root : root}\n",
    "        T = {root: {}}\n",
    "\n",
    "        while stack:\n",
    "            z = stack.pop()\n",
    "            zused = T[z]\n",
    "            for v, cost in G[z]:\n",
    "                if v not in T: # first time\n",
    "                    T[v] = {z}\n",
    "                    parent[v] = z\n",
    "                    stack.append(v)\n",
    "                elif v == z: # self cycle\n",
    "                    cycles.append([v])\n",
    "                elif v not in zused: # find cycle - node v in spanning tree\n",
    "                    level = T[v]\n",
    "                    cycle = [v, z]\n",
    "                    p = parent[z]\n",
    "\n",
    "                    while p not in level:\n",
    "                        cycle.append(p)\n",
    "                        p = parent[p]\n",
    "                    \n",
    "                    cycle.append(p)\n",
    "                    cycles.append(cycle)\n",
    "                    T[v].add(z)\n",
    "        \n",
    "        nodes_of_graph -= set(parent)\n",
    "        root = None\n",
    "    \n",
    "    return cycles\n",
    "\n",
    "\n"
   ]
  },
  {
   "attachments": {},
   "cell_type": "markdown",
   "metadata": {},
   "source": [
    "Deviding power correspondingly with Kirchhoff's first law"
   ]
  },
  {
   "cell_type": "code",
   "execution_count": 182,
   "metadata": {},
   "outputs": [],
   "source": [
    "def powerDivideTrash(G, root):\n",
    "    \n",
    "    n = len(G)\n",
    "    stack = [root]\n",
    "    power_counter = 0\n",
    "    visited = [False for _ in range(n)]\n",
    "    \n",
    "    def dfs(u, tmp_counter):\n",
    "        counter = 0\n",
    "        while len(G[u]) == 2:\n",
    "            for i, (v, cost, intensity) in enumerate(G[u]):\n",
    "                if counter >= 2:\n",
    "                    return\n",
    "                if intensity is not None:\n",
    "                    counter += 1\n",
    "                    continue\n",
    "                visited[v] = True\n",
    "                G[u][i][2] = tmp_counter\n",
    "                u = v\n",
    "        if len(G[u]) != 1:\n",
    "            stack.append(u)\n",
    "    # BFS\n",
    "    while stack:\n",
    "        p = stack.pop()\n",
    "        visited[p] = True\n",
    "\n",
    "        for i, (v, cost, intensity) in enumerate(G[p]):\n",
    "            if intensity is not None:\n",
    "                continue\n",
    "            if visited[v]:\n",
    "                continue\n",
    "            G[p][i][2] = power_counter\n",
    "            print(len(G[v]))\n",
    "            if len(G[v]) != 1 and len(G[v]) != 2:\n",
    "                power_counter += 1\n",
    "                stack.append(v)\n",
    "            else:\n",
    "                dfs(v, power_counter)\n",
    "                power_counter += 1\n",
    "    \n"
   ]
  },
  {
   "cell_type": "code",
   "execution_count": 183,
   "metadata": {},
   "outputs": [],
   "source": [
    "def powerDivide(G, root):\n",
    "    stack = [root]\n",
    "    power_counter = 0\n",
    "    \n",
    "    def dfs(u, tmp_counter):\n",
    "        # print(\"witam\")\n",
    "        for v in G[u]:\n",
    "            if G[v][u][1] is not None:\n",
    "                continue\n",
    "            G[u][v][1] = tmp_counter\n",
    "            # print(v, u)\n",
    "            if len(G[v]) == 2:\n",
    "                # print(\"G\")\n",
    "                dfs(v, tmp_counter)\n",
    "        stack.append(v)\n",
    "\n",
    "    # BFS\n",
    "    while stack:\n",
    "        p = stack.pop()\n",
    "\n",
    "        # if p == end_node:\n",
    "        #     continue\n",
    "\n",
    "        for v in G[p]:\n",
    "            if G[p][v][1] is not None or G[v][p][1] is not None:\n",
    "                continue\n",
    "\n",
    "            G[p][v][1] = power_counter\n",
    "            # print(\"1st \",p,v)\n",
    "            if len(G[v]) != 1 and len(G[v]) != 2:\n",
    "                power_counter += 1\n",
    "                stack.append(v)\n",
    "            else:\n",
    "                # print(\"2st \",p, v)\n",
    "                dfs(v, power_counter)\n",
    "                power_counter += 1\n",
    "    return power_counter    \n"
   ]
  },
  {
   "attachments": {},
   "cell_type": "markdown",
   "metadata": {},
   "source": [
    "Filling matrix with values of powers and basics cycles"
   ]
  },
  {
   "cell_type": "code",
   "execution_count": 247,
   "metadata": {},
   "outputs": [],
   "source": [
    "def fillMatrix(cycles, network, matrix_orgX, matrix_orgB, s, t, E):\n",
    "    # network - dict_graph_copy\n",
    "    matrix = matrix_orgX.copy()\n",
    "    matrixb = matrix_orgB.copy()\n",
    "    n = len(network)\n",
    "# [[8, 2, 0], [5, 4, 2, 0], [5, 3, 9, 8, 0]]\n",
    "    for i, node in enumerate(network):\n",
    "        for j in node:\n",
    "            if network[i][j][1] is not None:\n",
    "                cnt = network[i][j][1]\n",
    "                matrix[i][cnt] -= 1\n",
    "            else:\n",
    "                cnt = network[j][i][1]\n",
    "                matrix[i][cnt] += 1\n",
    "\n",
    "    for i in range(len(cycles)):\n",
    "        for j in range(-1, len(cycles[i]) - 1):\n",
    "            a = cycles[i][j]\n",
    "            b = cycles[i][j + 1]\n",
    "\n",
    "            if a == s and b == t or a == t and b == s:\n",
    "                if a == s and b == t:\n",
    "                    matrixb[i + n][0] += E\n",
    "                else:\n",
    "                    matrixb[i + n][0] -= E\n",
    "\n",
    "                continue\n",
    "                    \n",
    "                    \n",
    "\n",
    "            if network[a][b][1] is not None:\n",
    "                val, col = network[a][b]\n",
    "                matrix[i + n][col] += val\n",
    "            else:\n",
    "                \n",
    "                val, col = network[b][a]\n",
    "                matrix[i + n][col] -= val\n",
    "    # to_delete = np.where(~matrix.any(axis=1))[0]\n",
    "    # dele = to_delete\n",
    "    # for i in range(len(to_delete)):\n",
    "    #     matrix = np.delete(matrix, dele[0], 0)\n",
    "    #     matrixb = np.delete(matrixb, dele[0], 0)\n",
    "    #     dele = np.where(~matrix.any(axis=1))[0]\n",
    "\n",
    "\n",
    "\n",
    "    return matrix, matrixb\n"
   ]
  },
  {
   "attachments": {},
   "cell_type": "markdown",
   "metadata": {},
   "source": [
    "Complete graph with value of power in each edge"
   ]
  },
  {
   "cell_type": "code",
   "execution_count": 254,
   "metadata": {},
   "outputs": [],
   "source": [
    "def solvedGraph(solution, graphH):\n",
    "    return_graph = [[] for _ in range(len(graphH))]\n",
    "    for i, dic in enumerate(graphH):\n",
    "        for v in dic:\n",
    "            if graphH[i][v][1] is not None:\n",
    "                x = solution[graphH[i][v][1]][0]\n",
    "                if x > 0:\n",
    "                    return_graph[i].append([v, x])\n",
    "                else:\n",
    "                    return_graph[v].append([i, abs(x)])\n",
    "    \n",
    "    return return_graph"
   ]
  },
  {
   "attachments": {},
   "cell_type": "markdown",
   "metadata": {},
   "source": [
    "Example of use"
   ]
  },
  {
   "cell_type": "code",
   "execution_count": 236,
   "metadata": {},
   "outputs": [],
   "source": [
    "# graph_copy, s, t, E, dict_graph_copy = loadGraph(\"graf.txt\")\n",
    "graph_t3_org, dict_graph_t3_org = loadGraph(\"t3.txt\")\n"
   ]
  },
  {
   "cell_type": "code",
   "execution_count": 237,
   "metadata": {},
   "outputs": [],
   "source": [
    "s1, t1, E1 = 0, 2, 60\n",
    "graph_t3_1, dict_graph_t3_1 = loadSEM(s1, t1, E1, graph_t3_org, dict_graph_t3_org)"
   ]
  },
  {
   "cell_type": "code",
   "execution_count": 238,
   "metadata": {},
   "outputs": [],
   "source": [
    "len_of_powers1 = powerDivide(dict_graph_t3_1, s1)"
   ]
  },
  {
   "cell_type": "code",
   "execution_count": 239,
   "metadata": {},
   "outputs": [
    {
     "name": "stdout",
     "output_type": "stream",
     "text": [
      "0 {5: [23, None], 7: [23, None], 8: [37, None]}\n",
      "1 {3: [7, None]}\n",
      "2 {4: [18, None], 8: [41, None]}\n",
      "3 {1: [7, None], 5: [25, None], 9: [20, None]}\n",
      "4 {2: [18, None], 5: [10, None]}\n",
      "5 {0: [23, None], 3: [25, None], 4: [10, None]}\n",
      "6 {}\n",
      "7 {0: [23, None]}\n",
      "8 {0: [37, None], 2: [41, None], 9: [33, None]}\n",
      "9 {3: [20, None], 8: [33, None]}\n"
     ]
    }
   ],
   "source": [
    "for i, v in enumerate(dict_graph_t3_org):\n",
    "    print(i, v)\n",
    "\n",
    "# print(list(dict_graph_copy[0]))"
   ]
  },
  {
   "cell_type": "code",
   "execution_count": 240,
   "metadata": {},
   "outputs": [
    {
     "name": "stdout",
     "output_type": "stream",
     "text": [
      "22\n"
     ]
    },
    {
     "data": {
      "image/png": "[encoded data removed]",
      "text/plain": [
       "<Figure size 1000x1000 with 2 Axes>"
      ]
     },
     "metadata": {},
     "output_type": "display_data"
    }
   ],
   "source": [
    "graphToNx(graph_t3_1, s1, t1)"
   ]
  },
  {
   "cell_type": "code",
   "execution_count": 241,
   "metadata": {},
   "outputs": [],
   "source": [
    "cycles1 = paton(graph_t3_1)"
   ]
  },
  {
   "attachments": {},
   "cell_type": "markdown",
   "metadata": {},
   "source": [
    "Created a matrix with dimensions : amount of basics_cycles + amount of nodes in graph / amount of powers in circuit\n"
   ]
  },
  {
   "cell_type": "code",
   "execution_count": 243,
   "metadata": {},
   "outputs": [],
   "source": [
    "c_len = len(cycles1)\n",
    "n_len = len(dict_graph_t3_1)\n",
    "\n",
    "matrixX = np.zeros((c_len + n_len, len_of_powers1))\n",
    "matrixB = np.zeros((c_len + n_len, 1))\n"
   ]
  },
  {
   "attachments": {},
   "cell_type": "markdown",
   "metadata": {},
   "source": [
    "Solving equation"
   ]
  },
  {
   "cell_type": "code",
   "execution_count": 248,
   "metadata": {},
   "outputs": [],
   "source": [
    "to_solveX, to_solveB = fillMatrix(cycles1, dict_graph_t3_1, matrixX, matrixB, s1, t1, E1)"
   ]
  },
  {
   "cell_type": "code",
   "execution_count": 255,
   "metadata": {},
   "outputs": [],
   "source": [
    "solved = np.linalg.lstsq(to_solveX, to_solveB, rcond=None)[0]"
   ]
  },
  {
   "cell_type": "code",
   "execution_count": 257,
   "metadata": {},
   "outputs": [],
   "source": [
    "solution_graph1 = solvedGraph(solved, dict_graph_t3_1)"
   ]
  },
  {
   "attachments": {},
   "cell_type": "markdown",
   "metadata": {},
   "source": [
    "Drawning solved example"
   ]
  },
  {
   "cell_type": "code",
   "execution_count": 259,
   "metadata": {},
   "outputs": [
    {
     "name": "stdout",
     "output_type": "stream",
     "text": [
      "11\n"
     ]
    },
    {
     "data": {
      "image/png": "[encoded data removed]",
      "text/plain": [
       "<Figure size 1000x1000 with 2 Axes>"
      ]
     },
     "metadata": {},
     "output_type": "display_data"
    }
   ],
   "source": [
    "graphToNx(solution_graph1, s1, t1)"
   ]
  },
  {
   "attachments": {},
   "cell_type": "markdown",
   "metadata": {},
   "source": [
    "Sprawdzanie czy prądy są rozłożone poprawnie"
   ]
  },
  {
   "cell_type": "code",
   "execution_count": 140,
   "metadata": {},
   "outputs": [],
   "source": [
    "def checkSolution(graph, s, t):\n",
    "    # suma wychodzących ma się równąc sumie wchodzących\n",
    "    pass\n"
   ]
  },
  {
   "attachments": {},
   "cell_type": "markdown",
   "metadata": {},
   "source": [
    "#### Generowanie odpowiedznich grafów do pliku"
   ]
  },
  {
   "attachments": {},
   "cell_type": "markdown",
   "metadata": {},
   "source": [
    "1. Spójny graf losowy </br>\n",
    "Funkcja ```gnpRandomConnectedGraph``` jest podobna do budowania grafu losowego Erdős-Rényi, jednak w wyniku daje graf spójny"
   ]
  },
  {
   "cell_type": "code",
   "execution_count": 172,
   "metadata": {},
   "outputs": [],
   "source": [
    "def gnpRandomConnectedGraph(n, filename):\n",
    "    p = random.random()\n",
    "    edges = combinations(range(n), 2)\n",
    "\n",
    "    with open(filename, 'w') as f:\n",
    "        print(n, file= f)\n",
    "        print(edges)\n",
    "\n",
    "        for _, node_edges in groupby(edges, key=lambda x: x[0]):\n",
    "            node_edges = list(node_edges)\n",
    "            random_edge = random.choice(node_edges)\n",
    "            for e in node_edges:\n",
    "                if random.random() < p:\n",
    "                    pass\n",
    "    return\n",
    "\n"
   ]
  },
  {
   "cell_type": "code",
   "execution_count": 173,
   "metadata": {},
   "outputs": [
    {
     "name": "stdout",
     "output_type": "stream",
     "text": [
      "<itertools.combinations object at 0x7f42e4273ba0>\n"
     ]
    }
   ],
   "source": [
    "S = gnpRandomConnectedGraph(10, \"cos2\")\n",
    "# nx.draw_networkx(S)"
   ]
  }
 ],
 "metadata": {
  "kernelspec": {
   "display_name": "Python 3",
   "language": "python",
   "name": "python3"
  },
  "language_info": {
   "codemirror_mode": {
    "name": "ipython",
    "version": 3
   },
   "file_extension": ".py",
   "mimetype": "text/x-python",
   "name": "python",
   "nbconvert_exporter": "python",
   "pygments_lexer": "ipython3",
   "version": "3.10.6"
  },
  "orig_nbformat": 4,
  "vscode": {
   "interpreter": {
    "hash": "916dbcbb3f70747c44a77c7bcd40155683ae19c65e1c03b4aa3499c5328201f1"
   }
  }
 },
 "nbformat": 4,
 "nbformat_minor": 2
}
