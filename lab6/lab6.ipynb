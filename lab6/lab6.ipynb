{
 "cells": [
  {
   "attachments": {},
   "cell_type": "markdown",
   "metadata": {},
   "source": [
    "## Laboratorium 6"
   ]
  },
  {
   "attachments": {},
   "cell_type": "markdown",
   "metadata": {},
   "source": [
    "imports"
   ]
  },
  {
   "cell_type": "code",
   "execution_count": 43,
   "metadata": {},
   "outputs": [
    {
     "name": "stderr",
     "output_type": "stream",
     "text": [
      "[nltk_data] Downloading package stopwords to /home/hiro/nltk_data...\n",
      "[nltk_data]   Package stopwords is already up-to-date!\n",
      "[nltk_data] Downloading package wordnet to /home/hiro/nltk_data...\n",
      "[nltk_data]   Package wordnet is already up-to-date!\n"
     ]
    }
   ],
   "source": [
    "import wikipedia\n",
    "from wikipedia.exceptions import WikipediaException\n",
    "import pickle\n",
    "import csv\n",
    "import numpy as np\n",
    "import os\n",
    "import random\n",
    "import time\n",
    "import re\n",
    "from typing import List, Dict\n",
    "import string\n",
    "from gensim.parsing.preprocessing import remove_stopwords\n",
    "import nltk\n",
    "nltk.download('stopwords')\n",
    "nltk.download('wordnet')\n",
    "from nltk.corpus import stopwords\n",
    "from nltk.stem import WordNetLemmatizer\n",
    "from collections import defaultdict\n",
    "from scipy import sparse"
   ]
  },
  {
   "attachments": {},
   "cell_type": "markdown",
   "metadata": {},
   "source": [
    "Tekst artukułu jest wyszukiwany i pobierany za pomocą biblioteki wikipedia. Po otrzymaniu danego artykułu jest on zapisywany do folderu ```articles``` za pomocą blbioteki ```pickle```."
   ]
  },
  {
   "attachments": {},
   "cell_type": "markdown",
   "metadata": {},
   "source": [
    "Załadownie n-pierwszych artykułów z enwiki dump. (Jest to potrzebne ponieważ plik, który zainstalowałem ma ponad 300 000 tytułów artykułu)"
   ]
  },
  {
   "cell_type": "code",
   "execution_count": 2,
   "metadata": {},
   "outputs": [],
   "source": [
    "class ArticleLoader:\n",
    "    def __init__(self, n=10**4, file='articles/enwiki-pages-articles.txt'):\n",
    "        self.n = n\n",
    "        self.file = file\n",
    "        self.enwiki_name = 'enwiki-pages-articles.txt'\n",
    "        self.titles = []\n",
    "        self.dict_of_key_words = dict()\n",
    "    # zadanie 1 - przygotowanie zbioru dokumentów tekstowych\n",
    "    def get_names_of_n_first_articles(self):\n",
    "        with open(self.file, 'r',encoding=\"utf8\") as f:\n",
    "            csv_reader = csv.reader(f, delimiter=':')\n",
    "            i = 0\n",
    "            for row in csv_reader:\n",
    "                if i >= self.n:\n",
    "                    break\n",
    "\n",
    "                title_of_article = row[-1]\n",
    "            \n",
    "                if '/' in title_of_article:\n",
    "                    continue\n",
    "\n",
    "                self.titles.append(title_of_article)\n",
    "                i += 1\n",
    "\n",
    "        random.shuffle(self.titles)\n",
    "    \n",
    "    def load_and_save_articles(self):\n",
    "        not_found = 0\n",
    "        if not self.titles:\n",
    "            self.get_names_of_n_first_articles()\n",
    "\n",
    "        for title in self.titles:\n",
    "            try:\n",
    "                wiki_page = wikipedia.page(title)\n",
    "                url = wiki_page.url\n",
    "                content = wiki_page.content\n",
    "                dict_of_title = {'content': content, 'url': url}\n",
    "                pickle.dump(dict_of_title, open('articles/{}'.format(title), 'wb'))\n",
    "            except WikipediaException:\n",
    "                not_found += 1\n",
    "            except Exception as e:\n",
    "                print(\"exception ocured {}\".format(str(e)))\n",
    "        print(\"Titles not found: {}\".format(not_found))\n",
    "\n",
    "    # zadabie 2 - określenie słownika słów kluczowych -> będzie to słwonik z kluczem jako nazwa artykułu, a wartością jako tekst artykułu\n",
    "    \n",
    "    # stworzenie nowego słownika dla słów kluczowych\n",
    "    def create_dict_of_key_words(self):\n",
    "        i = 0\n",
    "        # self.dict_of_key_words[\"6\"] = pickle.load(open(\"articles/{}\".format(6), \"rb\"))\n",
    "\n",
    "        for title in self.pickle_yeild():\n",
    "            if title == self.enwiki_name or \"key_words\" in title: \n",
    "                continue\n",
    "\n",
    "            self.dict_of_key_words[title] = pickle.load(open(\"articles/{}\".format(title), \"rb\"))\n",
    "            i+=1\n",
    "            time.sleep(0.1)\n",
    "\n",
    "\n",
    "        pickle.dump(self.dict_of_key_words, open('articles/dumped_data/dict_of_key_words_{}'.format(len(self.dict_of_key_words)), 'wb'))\n",
    "    \n",
    "    def pickle_yeild(self, path = 'articles'):\n",
    "        for content in os.listdir(path):\n",
    "            if os.path.isfile(os.path.join(path, content)):\n",
    "                yield content\n",
    "\n",
    "    # wczytanie wcześniej stworzonego słownika dla słów kluczowych\n",
    "    def load_dict_of_key_words(self, dirpath = 'articles/dumped_data', dumped_file = 'dict_of_key_words_7285'):\n",
    "        path = os.path.join(dirpath, dumped_file)\n",
    "        self.dict_of_key_words = pickle.load(open(path, \"rb\"))\n",
    "\n",
    "\n"
   ]
  },
  {
   "cell_type": "code",
   "execution_count": 3,
   "metadata": {},
   "outputs": [],
   "source": [
    "article_handler = ArticleLoader()"
   ]
  },
  {
   "cell_type": "code",
   "execution_count": 4,
   "metadata": {},
   "outputs": [],
   "source": [
    "article_handler.get_names_of_n_first_articles()"
   ]
  },
  {
   "cell_type": "code",
   "execution_count": 5,
   "metadata": {},
   "outputs": [],
   "source": [
    "article_handler.load_dict_of_key_words()"
   ]
  },
  {
   "cell_type": "code",
   "execution_count": null,
   "metadata": {},
   "outputs": [],
   "source": []
  },
  {
   "cell_type": "code",
   "execution_count": 7,
   "metadata": {},
   "outputs": [
    {
     "name": "stdout",
     "output_type": "stream",
     "text": [
      "Zami: A New Spelling of My Name is a 1982 biomythography by American poet Audre Lorde. It started a new genre that the author calls biomythography, which combines history, biography, and myth. In the text, Lorde writes that \"Zami\" is \"a Carriacou name for women who work together as friends and lovers\", noting that Carriacou is the Caribbean island from which her mother immigrated. The name proves fitting: Lorde begins Zami writing that she owes her power and strength to the women in her life, and much of the book is devoted to detailed portraits of other women.\n",
      "\n",
      "\n",
      "== Plot summary ==\n",
      "Audre Lorde grows up in Harlem in the 1930s and 1940s, a child of Black West Indian parents. Lorde is legally blind from a very young age, isolating her even further from her surroundings and a family from which she does not receive much warmth or affection. Her two older sisters, Phyllis and Helen, are very close, but are rarely mentioned in Zami and Lorde spends little time with them. Her parents and other adults, especially her mother, discipline her harshly for insolence.\n",
      "Lorde does not speak until age four, when she declares that she wants to read, and promptly follows through on this desire. She witnesses racism from a young age. The family's landlord hangs himself for having to rent his flat to Black people. When the family takes a trip to Washington, D.C., they are not allowed to eat ice cream at a lunch counter because of Jim Crow laws. Despite the rampant racism of this era that Lorde encountered in her daily life, her mother attempted to shield her from it. When white people spit at them during Lorde's childhood, her mother would disparage those low-class people for spitting into the wind.\n",
      "After getting her first period at age 15, Lorde makes friends with a small number of non-Black girls at Hunter College High School, who label themselves \"The Branded\". She is elected literary editor of the school's arts magazine and begins writing poetry. After graduation, she leaves home and shares a flat with friends of Jean's (one of The Branded), ceasing contact with her parents and two sisters. At the same time, she also goes out with Peter, a white boy who jilts her on New Year's Eve after finding out she is pregnant. Lorde ultimately decides to get an abortion.\n",
      "After some unhappy times at Hunter College, she moves to Stamford, Connecticut, to find work in a factory, where the working conditions prove atrocious. Following her father's death, she returns to New York and starts a relationship with Bea, whose heart she ends up breaking when she decides to move to Mexico to get away from McCarthyism. There, she goes to university and works as a secretary in a hospital. In Cuernavaca, she meets a lot of independent women, mostly lesbians; she has a relationship with one of them, Eudora, and works in a library. Back in New York, Lorde explores the lesbian bar scene, moves in with lover, Muriel. Another woman, Lynn, moves in with them and ends up leaving without warning and steals their savings. Finally, Lorde begins a relationship with a mother named Afrekete, who decides to leave to tend to her child. The book ends on a homage to Lorde's mother.\n",
      "\n",
      "\n",
      "== Characters ==\n",
      "Audre Lorde, the author\n",
      "Linda Lorde, Audre's mother. She knows patois. She prepares lunch for the Dad. Each child is asked once or twice a year which dish they would like her to prepare for dinner. The Dad keeps his distance, unless the Mom is in any way disrespected or talked back to, and then he will jump in. She is always longing for \"home\", the island community she emigrated from. She is able to obtain work as a cleaner, but only because she is light enough to pass as Spanish. When the employer finds out she is black, she is fired. She outlives her husband. She refuses the free milk given to poor families.\n",
      "Phyllis and Helen, Audre's older sisters\n",
      "The Branded, Audre's friends at high school\n",
      "Maxine, Audre's Jewish friend at high school\n",
      "Gennie, a.k.a. Genevieve, Audre's closest friend in high school who takes dance classes and commits suicide. The first person she consciously, truly loves.\n",
      "Louisa, Gennie's mother\n",
      "Philip Thompson, Gennie's father who left home early and comes back when she is 15\n",
      "Ella, Gennie's stepmother\n",
      "Peter, a white boy whom Audre dates in New York\n",
      "Ginger, Audre's colleague from the factory at Stamford; Audre's first female lover. Audre later moved in with Ginger and her Mom, and paid rent for room and board.\n",
      "Bea, Audre's lover, met in New York. Only dated each other because of the mutual fact they were gay. They were supposed to go to Mexico together, but Audre stood her up when she realized it would be a bad idea to go together. With Bea, Audre did all the work, and Bea wasn't that responsive. They commuted back and forth from Philadelphia to see each other.\n",
      "Eudora, an older woman and Audre's lover in Mexico. She was a journalist and alcoholic. She was passionate about Mexican culture and history. She had a clothing shop with her ex in the Mexican town where they lived. She had lost a breast due to cancer.\n",
      "Muriel, Audre's lover. Her first long-term committed relationship. Muriel moves in with Audre. Muriel has been diagnosed with schizophrenia and has undergone electroshock therapy. Audre supports Muriel financially. Ginger introduced Muriel to Audre, as Muriel held the same job at the Stamford factory before Audre did.\n",
      "Rhea, Audre's roommate in New York after returning from Mexico. A straight white woman whose political work was jeopardized by living with a black lesbian, she leaves for Chicago in order to keep her job under the pretense of starting a new life after the demise of a relationship, but Audre does not know this at the time. Audre also lived with Rhea before going to Mexico. Rhea never has satisfying romantic relationships and wonders longingly at the love Muriel and Audre are experiencing at the beginning of their relationship.\n",
      "Felicia, a.k.a. \"Flee\", a black lesbian who has a close but platonic relationship with Audre\n",
      "Lynn, a lesbian who lives with Muriel and Audre for a while and is their mutual lover during this time\n",
      "Toni, Audre's old acquaintance from high school, who turns out a lesbian\n",
      "Gerri, a black lesbian from Queens. Gerri and her partner are known for their wonderful parties, which have abundant food, in contrast to the Upper West Side parties which do not have much food and are much more uptight.\n",
      "Kitty, a.k.a. Afrekete, the last lover mentioned in the book, met through Gerri; she has a daughter and leaves abruptly back to Atlanta to visit her Mom and daughter. Lorde never sees her again, but mentions Kitty will always be part of her.\n",
      "\n",
      "\n",
      "== Major themes ==\n",
      "Lesbianism – The book describes the way lesbians lived in New York City, Connecticut and Mexico during the 1950s through 1970s.\n",
      "Racism – The landlord who hangs himself, the ice-cream episode in Washington, D.C., and the increased suspicion during the McCarthy era all contribute to highlight the theme of racism.\n",
      "The mother – Lorde's difficult relationship with her mother, whom she credits for imbuing her with a certain sense of strength, pervades throughout the book.\n",
      "McCarthyism and the Rosenbergs are also mentioned.\n",
      "\n",
      "\n",
      "== Critical reception ==\n",
      "On November 5, 2019, the BBC News listed Zami: A New Spelling of My Name on its list of the 100 most influential novels.\n",
      "\n",
      "\n",
      "== References ==\n",
      "\n",
      "\n",
      "== Further reading ==\n",
      "Zami: A Portrait of an Artist as a Black Lesbian by Barbara DiBernard\n"
     ]
    }
   ],
   "source": [
    "print(article_handler.dict_of_key_words[' A New Spelling of My Name']['content'])"
   ]
  },
  {
   "cell_type": "code",
   "execution_count": 67,
   "metadata": {},
   "outputs": [],
   "source": [
    "class ArticleSearchEngine(object):\n",
    "    def __init__(self, articles_key_words : Dict[str, Dict[str, str]]):\n",
    "        self.articles = articles_key_words\n",
    "        self.titles = list(self.articles.keys())\n",
    "        self.occured_words = defaultdict(lambda: 0)\n",
    "        self.uniq_occured_words = None\n",
    "        self.ids_of_unique_occured_word = None\n",
    "        self.parsed_article = dict()\n",
    "        self.stop_words = set(stopwords.words('english'))\n",
    "        self.lemmatisation = WordNetLemmatizer()\n",
    "\n",
    "    def parse_article_text(self, text: str, if_article = True):                     # dzięki if_article możemy się dowiedzieć czy dany artykuł został już wcześniej sprawdzony \n",
    "        parse_text = text.lower()                                                   # nie ma sensu w odróżnianiu małych i dużych liter\n",
    "        parse_text = re.sub('['+string.punctuation+']', '', parse_text).split()     # parsowanie po tekście w celu usunięcia niepotrzebnych znajów np. #$%...\n",
    "        parsed_text = [word for word in parse_text if word not in self.stop_words]  # usuwanie stop_wordów np. 'ours', 'i' ...\n",
    "\n",
    "        words_dictonary = defaultdict(lambda: 0)                                    # dla nie powstałego słownika przypisz 0 jako wartość\n",
    "        words_counter = 0                                                           # liczenie ilości słów\n",
    "        for word in parsed_text:\n",
    "            lemma_word = self.lemmatisation.lemmatize(word, pos='v')              # pos = 'v' - verb lemmatisation np. goes -> go ...\n",
    "            words_dictonary[lemma_word] += 1                                        # dzięki defaultdict mamy pewność, że jak nie istnieje dany klucz to stworzy się nowy z wartością 0\n",
    "            words_counter += 1\n",
    "            if if_article:\n",
    "                self.occured_words[lemma_word] += 1\n",
    "        return dict(words_dictonary = words_dictonary, words_counter = words_counter)\n",
    "            \n",
    "\n",
    "    def article_parser(self):\n",
    "        for article_title in self.titles:\n",
    "            self.parsed_article[article_title] = dict()\n",
    "            self.parsed_article[article_title]['article_content'] = self.parse_article_text(self.articles[article_title]['content'])\n",
    "\n",
    "        self.uniq_occured_words = list(self.occured_words.keys())\n",
    "        self.ids_of_unique_occured_word = {self.uniq_occured_words[i]: i for i in range(len(self.uniq_occured_words))}\n",
    "\n",
    "    def create_bags_of_words(self):\n",
    "        for article_title in self.titles:\n",
    "            self.parsed_article[article_title]['bag_of_words'] = self.fill_bag_of_words(self.parsed_article[article_title]['article_content'])\n",
    "    \n",
    "    def fill_bag_of_words(self, article_content):\n",
    "        article_words = article_content['words_dictonary'].keys()\n",
    "\n",
    "        # tworzenie macierzy rzadkiej -> wymiary: ilość wszystkich unikalnych słów we wszystkich tekstów / 1 -> jeden, ponieważ działamy na jednym artykule w danym momencie\n",
    "        # dok_matrix -> Dictionary Of Keys based sparse matrix, efficient structure for constructing sparse matrices incrementally\n",
    "        vector = sparse.dok_matrix(np.zeros((len(self.ids_of_unique_occured_word), 1))) \n",
    "        for word_key in article_words:\n",
    "            vector[self.ids_of_unique_occured_word[word_key], 0] = article_content['words_dictonary'][word_key]\n",
    "\n",
    "        vector /= article_content['words_counter'] # normalizacja wektora -> dzielenie przez ilość unikalnych słów w artykule\n",
    "        return sparse.csr_matrix(vector) # csr_matrix -> Compressed Sparse Row matrix"
   ]
  },
  {
   "cell_type": "code",
   "execution_count": 66,
   "metadata": {},
   "outputs": [
    {
     "name": "stdout",
     "output_type": "stream",
     "text": [
      "1.0\n"
     ]
    }
   ],
   "source": [
    "tab = sparse.dok_matrix(np.zeros((10, 1)))\n",
    "for i in range(10):\n",
    "    tab[i, 0] = i\n",
    "print(tab.get((1,0)))"
   ]
  },
  {
   "cell_type": "code",
   "execution_count": 18,
   "metadata": {},
   "outputs": [],
   "source": [
    "article_engine = ArticleSearchEngine(article_handler.dict_of_key_words)"
   ]
  },
  {
   "cell_type": "code",
   "execution_count": 19,
   "metadata": {},
   "outputs": [],
   "source": [
    "article_engine.article_parser()"
   ]
  },
  {
   "cell_type": "code",
   "execution_count": 45,
   "metadata": {},
   "outputs": [
    {
     "data": {
      "text/plain": [
       "716"
      ]
     },
     "execution_count": 45,
     "metadata": {},
     "output_type": "execute_result"
    }
   ],
   "source": [
    "article_engine.parsed_article[' A New Spelling of My Name']['article_content']['words_counter']"
   ]
  },
  {
   "cell_type": "code",
   "execution_count": 62,
   "metadata": {},
   "outputs": [
    {
     "name": "stdout",
     "output_type": "stream",
     "text": [
      "audre lorde grows up in harlem in the 1930s and 1940s, a child of black west indian parents. lorde is legally blind from a very young age, isolating her even further from her surroundings and a family from which she does not receive much warmth or affection. her two older sisters, phyllis and helen, are very close, but are rarely mentioned in zami and lorde spends little time with them. her parents and other adults, especially her mother, discipline her harshly for insolence. lorde\n",
      "audre lorde grows up in harlem in the 1930s and 1940s a child of black west indian parents lorde is legally blind from a very young age isolating her even further from her surroundings and a family from which she does not receive much warmth or affection her two older sisters phyllis and helen are very close but are rarely mentioned in zami and lorde spends little time with them her parents and other adults especially her mother discipline her harshly for insolence lorde\n",
      "audre lorde grows up in harlem in the s and s a child of black west indian parents lorde is legally blind from a very young age isolating her even further from her surroundings and a family from which she does not receive much warmth or affection her two older sisters phyllis and helen are very close but are rarely mentioned in zami and lorde spends little time with them her parents and other adults especially her mother discipline her harshly for insolence lorde\n",
      "audre lorde grows up in harlem in the s and s a child of black west indian parents lorde is legally blind from a very young age isolating her even further from her surroundings and a family from which she does not receive much warmth or affection her two older sisters phyllis and helen are very close but are rarely mentioned in zami and lorde spends little time with them her parents and other adults especially her mother discipline her harshly for insolence lorde\n",
      "audre lorde grows harlem s s child black west indian parents lorde legally blind young age isolating surroundings family receive warmth affection older sisters phyllis helen close rarely mentioned zami lorde spends little time parents adults especially mother discipline harshly insolence lorde\n",
      "['audre', 'lorde', 'grows', 'up', 'in', 'harlem', 'in', 'the', '1930s', 'and', '1940s', 'a', 'child', 'of', 'black', 'west', 'indian', 'parents', 'lorde', 'is', 'legally', 'blind', 'from', 'a', 'very', 'young', 'age', 'isolating', 'her', 'even', 'further', 'from', 'her', 'surroundings', 'and', 'a', 'family', 'from', 'which', 'she', 'does', 'not', 'receive', 'much', 'warmth', 'or', 'affection', 'her', 'two', 'older', 'sisters', 'phyllis', 'and', 'helen', 'are', 'very', 'close', 'but', 'are', 'rarely', 'mentioned', 'in', 'zami', 'and', 'lorde', 'spends', 'little', 'time', 'with', 'them', 'her', 'parents', 'and', 'other', 'adults', 'especially', 'her', 'mother', 'discipline', 'her', 'harshly', 'for', 'insolence', 'lorde']\n",
      "['audre', 'lorde', 'grows', 'harlem', '1930s', '1940s', 'child', 'black', 'west', 'indian', 'parents', 'lorde', 'legally', 'blind', 'young', 'age', 'isolating', 'even', 'surroundings', 'family', 'receive', 'much', 'warmth', 'affection', 'two', 'older', 'sisters', 'phyllis', 'helen', 'close', 'rarely', 'mentioned', 'zami', 'lorde', 'spends', 'little', 'time', 'parents', 'adults', 'especially', 'mother', 'discipline', 'harshly', 'insolence', 'lorde']\n",
      "['audre', 'lorde', 'grows', 'harlem', 's', 's', 'child', 'black', 'west', 'indian', 'parents', 'lorde', 'legally', 'blind', 'young', 'age', 'isolating', 'surroundings', 'family', 'receive', 'warmth', 'affection', 'older', 'sisters', 'phyllis', 'helen', 'close', 'rarely', 'mentioned', 'zami', 'lorde', 'spends', 'little', 'time', 'parents', 'adults', 'especially', 'mother', 'discipline', 'harshly', 'insolence', 'lorde']\n",
      "42\n",
      "45\n"
     ]
    }
   ],
   "source": [
    "content = \"Audre Lorde grows up in Harlem in the 1930s and 1940s, a child of Black West Indian parents. Lorde is legally blind from a very young age, isolating her even further from her surroundings and a family from which she does not receive much warmth or affection. Her two older sisters, Phyllis and Helen, are very close, but are rarely mentioned in Zami and Lorde spends little time with them. Her parents and other adults, especially her mother, discipline her harshly for insolence. Lorde\"\n",
    "\n",
    "content = content.lower()\n",
    "content2 = content.lower()\n",
    "print(content)\n",
    "content = re.sub(r'[^\\w\\s]', '', content)\n",
    "print(content)\n",
    "content = re.sub('[0-9]', '', content)\n",
    "print(content)\n",
    "content = re.sub(' {2} +',' ', content)\n",
    "print(content)\n",
    "content = remove_stopwords(content)\n",
    "print(content)\n",
    "\n",
    "# parsowanie stringów\n",
    "content2 = re.sub('['+string.punctuation+']', '', content2).split()\n",
    "print(content2)\n",
    "\n",
    "# usuowanie stopwords\n",
    "stop_words = set(stopwords.words('english'))\n",
    "content2re = [word for word in content2 if word not in stop_words]\n",
    "\n",
    "\n",
    "print(content2re)\n",
    "print(content.split())\n",
    "print(len(content.split()))\n",
    "print(len(content2re))"
   ]
  }
 ],
 "metadata": {
  "kernelspec": {
   "display_name": "Python 3",
   "language": "python",
   "name": "python3"
  },
  "language_info": {
   "codemirror_mode": {
    "name": "ipython",
    "version": 3
   },
   "file_extension": ".py",
   "mimetype": "text/x-python",
   "name": "python",
   "nbconvert_exporter": "python",
   "pygments_lexer": "ipython3",
   "version": "3.10.6"
  },
  "orig_nbformat": 4
 },
 "nbformat": 4,
 "nbformat_minor": 2
}
