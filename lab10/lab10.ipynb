{
 "cells": [
  {
   "cell_type": "code",
   "execution_count": 58,
   "metadata": {},
   "outputs": [],
   "source": [
    "import numpy as np\n",
    "import scipy.fft"
   ]
  },
  {
   "attachments": {},
   "cell_type": "markdown",
   "metadata": {},
   "source": [
    "Zadanie 1.1 Zaimplementuj funkcję realizującą DFT jako iloczyn macierzy Fouriera Fn i n-\n",
    "elementowego wektora wejściowego (y = Fn x)."
   ]
  },
  {
   "cell_type": "code",
   "execution_count": 44,
   "metadata": {},
   "outputs": [],
   "source": [
    "def create_F_n(n):\n",
    "    F = np.zeros((n,n), dtype = complex)\n",
    "    for i in range(n):\n",
    "        for k in range(n):\n",
    "            F[i][k] = np.cos(2*np.pi * i * k / n) + (-1j)*(np.sin(2*np.pi * i * k / n))\n",
    "    return F"
   ]
  },
  {
   "cell_type": "code",
   "execution_count": 45,
   "metadata": {},
   "outputs": [],
   "source": [
    "def dft(x):\n",
    "    n = len(x)\n",
    "    F = create_F_n(n)\n",
    "    return F @ x\n",
    "    "
   ]
  },
  {
   "cell_type": "code",
   "execution_count": 61,
   "metadata": {},
   "outputs": [],
   "source": [
    "x = [1, 2, 4, 3]\n",
    "n = len(x)\n",
    "y = dft(x)"
   ]
  },
  {
   "attachments": {},
   "cell_type": "markdown",
   "metadata": {},
   "source": [
    "Zadanie 1.2"
   ]
  },
  {
   "cell_type": "code",
   "execution_count": 64,
   "metadata": {},
   "outputs": [],
   "source": [
    "def idft(x):\n",
    "    n = len(x)\n",
    "    F = create_F_n(n)\n",
    "    y_conj = np.conjugate(y)\n",
    "    return np.conjugate((F @ y_conj) / n)\n"
   ]
  },
  {
   "cell_type": "code",
   "execution_count": 66,
   "metadata": {},
   "outputs": [
    {
     "name": "stdout",
     "output_type": "stream",
     "text": [
      "[1.-5.91448871e-16j 2.-2.91008360e-16j 4.+4.03578114e-17j\n",
      " 3.+3.52240700e-16j]\n",
      "[1.-5.91448871e-16j 2.-3.52240700e-16j 4.+4.07751851e-16j\n",
      " 3.+5.35937720e-16j]\n"
     ]
    }
   ],
   "source": [
    "F = create_F_n(n)\n",
    "print(idft(y))\n",
    "print(scipy.fft.ifft(y))"
   ]
  },
  {
   "attachments": {},
   "cell_type": "markdown",
   "metadata": {},
   "source": [
    "Zadanie 1.3"
   ]
  },
  {
   "cell_type": "code",
   "execution_count": null,
   "metadata": {},
   "outputs": [],
   "source": [
    "def create_S(n):\n",
    "    S = np.zeros(n, dtype=complex)\n",
    "    for i in range(n):\n",
    "        S[i] = np.cos(2*np.pi * i / n) + (-1j)*(np.sin(2*np.pi * i / n))\n",
    "    return S\n",
    "\n",
    "def fft(x):\n",
    "    if n == 2:\n",
    "        return create_F_n(2) @ x\n",
    "    \n",
    "    even_num = fft(x[0::2])\n",
    "    odd_num = fft(x[1::2])\n",
    "\n",
    "    # return np.array([])\n"
   ]
  }
 ],
 "metadata": {
  "kernelspec": {
   "display_name": "Python 3",
   "language": "python",
   "name": "python3"
  },
  "language_info": {
   "codemirror_mode": {
    "name": "ipython",
    "version": 3
   },
   "file_extension": ".py",
   "mimetype": "text/x-python",
   "name": "python",
   "nbconvert_exporter": "python",
   "pygments_lexer": "ipython3",
   "version": "3.10.6"
  },
  "orig_nbformat": 4
 },
 "nbformat": 4,
 "nbformat_minor": 2
}
