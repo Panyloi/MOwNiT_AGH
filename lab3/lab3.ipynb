{
 "cells": [
  {
   "attachments": {},
   "cell_type": "markdown",
   "metadata": {},
   "source": [
    "## Laboratorium 3"
   ]
  },
  {
   "cell_type": "code",
   "execution_count": 26,
   "metadata": {},
   "outputs": [],
   "source": [
    "from mpmath import mp, mpf\n",
    "from scipy.misc import derivative"
   ]
  },
  {
   "attachments": {},
   "cell_type": "markdown",
   "metadata": {},
   "source": [
    "Funkcje testujące"
   ]
  },
  {
   "cell_type": "code",
   "execution_count": 3,
   "metadata": {},
   "outputs": [],
   "source": [
    "def func1(x):\n",
    "    return mp.cos(x) * mp.cosh(x) - 1"
   ]
  },
  {
   "cell_type": "code",
   "execution_count": 22,
   "metadata": {},
   "outputs": [],
   "source": [
    "def func2(x):\n",
    "    if (x == 0): return mpf('inf')\n",
    "    return  1/mpf(x) - mp.tan(x)"
   ]
  },
  {
   "cell_type": "code",
   "execution_count": 4,
   "metadata": {},
   "outputs": [],
   "source": [
    "def func3(x):\n",
    "    return 2**(-x) + mp.e**x + 2* mp.cos(x) - 6"
   ]
  },
  {
   "attachments": {},
   "cell_type": "markdown",
   "metadata": {},
   "source": [
    "### Zad 1 - metoda bisekcji\n"
   ]
  },
  {
   "cell_type": "code",
   "execution_count": 18,
   "metadata": {},
   "outputs": [],
   "source": [
    "def bisekcja(a, b, f, prec, eps): # eps - blad bezwzgledny obliczen\n",
    "    mp.dps = prec\n",
    "    if mp.sign(f(a)) * mp.sign(f(b)) >= 0: return None\n",
    "    \n",
    "    i = 0\n",
    "\n",
    "    # while(abs(f(a)) > eps):\n",
    "    while(True):\n",
    "        i += 1\n",
    "        x1 = (mpf(b)-mpf(a))/2 + mpf(a)\n",
    "\n",
    "        if abs(f(x1)) < eps or abs(x1 - a) < eps:\n",
    "            return x1, i\n",
    "\n",
    "        elif(mp.sign(f(x1)) * mp.sign(f(a))) < 0: b = x1\n",
    "        else: a = x1\n",
    "\n",
    "\n"
   ]
  },
  {
   "cell_type": "code",
   "execution_count": 19,
   "metadata": {},
   "outputs": [
    {
     "name": "stdout",
     "output_type": "stream",
     "text": [
      "(mpf('4.730041027'), 21)\n",
      "(mpf('4.7300407448627091'), 48)\n",
      "(mpf('4.73004074486270402602404810083388397'), 108)\n"
     ]
    }
   ],
   "source": [
    "print(bisekcja(mpf(3)/mpf(2) * mp.pi, mpf(2) * mp.pi, func1, 7, mpf('10e-7')))\n",
    "print(bisekcja(mpf(3)/mpf(2) * mp.pi, mpf(2) * mp.pi, func1, 15, mpf('10e-15')))\n",
    "print(bisekcja(mpf(3)/mpf(2) * mp.pi, mpf(2) * mp.pi, func1, 33, mpf('10e-33')))"
   ]
  },
  {
   "cell_type": "code",
   "execution_count": 23,
   "metadata": {},
   "outputs": [
    {
     "name": "stdout",
     "output_type": "stream",
     "text": [
      "(mpf('0.8603332639'), 21)\n",
      "(mpf('0.8603335890193804'), 48)\n",
      "(mpf('0.860333589019379762483893424137665943'), 107)\n"
     ]
    }
   ],
   "source": [
    "print(bisekcja(mpf(0), mpf(1)/mpf(2) * mp.pi, func2, 7, mpf('10e-7')))\n",
    "print(bisekcja(mpf(0), mpf(1)/mpf(2) * mp.pi, func2, 15, mpf('10e-15')))\n",
    "print(bisekcja(mpf(0), mpf(1)/mpf(2) * mp.pi, func2, 33, mpf('10e-33')))"
   ]
  },
  {
   "cell_type": "code",
   "execution_count": 21,
   "metadata": {},
   "outputs": [
    {
     "name": "stdout",
     "output_type": "stream",
     "text": [
      "(mpf('1.829382896'), 21)\n",
      "(mpf('1.8293836019338485'), 48)\n",
      "(mpf('1.82938360193384881713621294681415023'), 108)\n"
     ]
    }
   ],
   "source": [
    "print(bisekcja(mpf(1), mpf(3), func3, 7, mpf('10e-7')))\n",
    "print(bisekcja(mpf(1), mpf(3), func3, 15, mpf('10e-15')))\n",
    "print(bisekcja(mpf(1), mpf(3), func3, 33, mpf('10e-33')))"
   ]
  },
  {
   "attachments": {},
   "cell_type": "markdown",
   "metadata": {},
   "source": [
    "### Zad 2"
   ]
  },
  {
   "cell_type": "code",
   "execution_count": 27,
   "metadata": {},
   "outputs": [],
   "source": [
    "def styczne(a, b, f, prec, eps):\n",
    "    mp.dps = prec\n",
    "    i = 0\n",
    "    x = mpf(b)\n",
    "\n",
    "    while(True):\n",
    "        i += 1\n",
    "        x1 = mpf(x) - f(x)/derivative(f, mpf(x), dx = eps)\n",
    "        if abs(x1 - x) < eps : return x1, i\n",
    "        x = x1\n",
    "    "
   ]
  },
  {
   "cell_type": "code",
   "execution_count": 28,
   "metadata": {},
   "outputs": [
    {
     "name": "stdout",
     "output_type": "stream",
     "text": [
      "(mpf('5.298311174'), 1)\n",
      "(mpf('5.2630421177550728'), 1)\n",
      "(mpf('5.29047575179225496242453247492697406'), 1)\n"
     ]
    }
   ],
   "source": [
    "print(styczne(mpf(3)/mpf(2) * mp.pi, mpf(2) * mp.pi, func1, 7, mpf('10e-7')))\n",
    "print(styczne(mpf(3)/mpf(2) * mp.pi, mpf(2) * mp.pi, func1, 15, mpf('10e-15')))\n",
    "print(styczne(mpf(3)/mpf(2) * mp.pi, mpf(2) * mp.pi, func1, 33, mpf('10e-33')))"
   ]
  }
 ],
 "metadata": {
  "kernelspec": {
   "display_name": "Python 3",
   "language": "python",
   "name": "python3"
  },
  "language_info": {
   "codemirror_mode": {
    "name": "ipython",
    "version": 3
   },
   "file_extension": ".py",
   "mimetype": "text/x-python",
   "name": "python",
   "nbconvert_exporter": "python",
   "pygments_lexer": "ipython3",
   "version": "3.10.6"
  },
  "orig_nbformat": 4
 },
 "nbformat": 4,
 "nbformat_minor": 2
}
